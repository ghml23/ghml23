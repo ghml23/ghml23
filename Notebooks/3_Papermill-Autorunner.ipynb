{
 "cells": [
  {
   "cell_type": "code",
   "execution_count": null,
   "id": "f2a35602",
   "metadata": {
    "scrolled": true
   },
   "outputs": [
    {
     "name": "stderr",
     "output_type": "stream",
     "text": [
      "Black is not installed, parameters wont be formatted\n"
     ]
    },
    {
     "name": "stdout",
     "output_type": "stream",
     "text": [
      "{'cust_dir': 'ar3/', 'use_tfidfvectorizer': True, 'tdidf_max_df': 1.0, 'tdidf_min_df': 4, 'use_stopwords': True, 'use_extended_stopwords': False, 'umap_metric': 'hellinger', 'umap_ncomponents': 2, 'umap_random_state': 42, 'umap_min_dist': 0, 'umap_n_neighbors': 30, 'min_cluster': 10, 'max_cluster': 50, 'clust_int': 3, 'ss_min': 50, 'ss_max': 500, 'ss_int': 50, 'cs_min': 50, 'cs_max': 500, 'cs_int': 50, 't_name': 't2.4.1s', 'merge_list': ['t2.4.2', 't2.4.6']}\n"
     ]
    },
    {
     "data": {
      "application/vnd.jupyter.widget-view+json": {
       "model_id": "4239c13e3e8b490faf0e381299cb1e9d",
       "version_major": 2,
       "version_minor": 0
      },
      "text/plain": [
       "Executing:   0%|          | 0/37 [00:00<?, ?cell/s]"
      ]
     },
     "metadata": {},
     "output_type": "display_data"
    },
    {
     "name": "stderr",
     "output_type": "stream",
     "text": [
      "Black is not installed, parameters wont be formatted\n"
     ]
    },
    {
     "name": "stdout",
     "output_type": "stream",
     "text": [
      "{'cust_dir': 'ar3/', 'use_tfidfvectorizer': True, 'tdidf_max_df': 1.0, 'tdidf_min_df': 4, 'use_stopwords': True, 'use_extended_stopwords': False, 'umap_metric': 'hellinger', 'umap_ncomponents': 2, 'umap_random_state': 42, 'umap_min_dist': 0, 'umap_n_neighbors': 30, 'min_cluster': 10, 'max_cluster': 50, 'clust_int': 3, 'ss_min': 50, 'ss_max': 500, 'ss_int': 50, 'cs_min': 50, 'cs_max': 500, 'cs_int': 50, 't_name': 't2.4.1s', 'merge_list': ['t2.4.2', 't2.4.6', 't2.4.3']}\n"
     ]
    },
    {
     "data": {
      "application/vnd.jupyter.widget-view+json": {
       "model_id": "4fa022b9b0a647c99fbf51cf87ab86b7",
       "version_major": 2,
       "version_minor": 0
      },
      "text/plain": [
       "Executing:   0%|          | 0/37 [00:00<?, ?cell/s]"
      ]
     },
     "metadata": {},
     "output_type": "display_data"
    },
    {
     "name": "stderr",
     "output_type": "stream",
     "text": [
      "Black is not installed, parameters wont be formatted\n"
     ]
    },
    {
     "name": "stdout",
     "output_type": "stream",
     "text": [
      "{'cust_dir': 'ar3/', 'use_tfidfvectorizer': True, 'tdidf_max_df': 1.0, 'tdidf_min_df': 4, 'use_stopwords': True, 'use_extended_stopwords': False, 'umap_metric': 'hellinger', 'umap_ncomponents': 2, 'umap_random_state': 42, 'umap_min_dist': 0, 'umap_n_neighbors': 30, 'min_cluster': 10, 'max_cluster': 50, 'clust_int': 3, 'ss_min': 50, 'ss_max': 500, 'ss_int': 50, 'cs_min': 50, 'cs_max': 500, 'cs_int': 50, 't_name': 't2.4.1s', 'merge_list': ['t2.4.2', 't2.4.6', 't2.4.3', 't2.4.5']}\n"
     ]
    },
    {
     "data": {
      "application/vnd.jupyter.widget-view+json": {
       "model_id": "73cdf8d3b03f4a5b8a9edbfadc96b129",
       "version_major": 2,
       "version_minor": 0
      },
      "text/plain": [
       "Executing:   0%|          | 0/37 [00:00<?, ?cell/s]"
      ]
     },
     "metadata": {},
     "output_type": "display_data"
    },
    {
     "name": "stderr",
     "output_type": "stream",
     "text": [
      "Black is not installed, parameters wont be formatted\n"
     ]
    },
    {
     "name": "stdout",
     "output_type": "stream",
     "text": [
      "{'cust_dir': 'ar3/', 'use_tfidfvectorizer': True, 'tdidf_max_df': 1.0, 'tdidf_min_df': 4, 'use_stopwords': True, 'use_extended_stopwords': False, 'umap_metric': 'hellinger', 'umap_ncomponents': 2, 'umap_random_state': 42, 'umap_min_dist': 0, 'umap_n_neighbors': 30, 'min_cluster': 10, 'max_cluster': 50, 'clust_int': 3, 'ss_min': 50, 'ss_max': 500, 'ss_int': 50, 'cs_min': 50, 'cs_max': 500, 'cs_int': 50, 't_name': 't2.4.1s', 'merge_list': ''}\n"
     ]
    },
    {
     "data": {
      "application/vnd.jupyter.widget-view+json": {
       "model_id": "fc3fe16faca14310b53cbc6b68017912",
       "version_major": 2,
       "version_minor": 0
      },
      "text/plain": [
       "Executing:   0%|          | 0/37 [00:00<?, ?cell/s]"
      ]
     },
     "metadata": {},
     "output_type": "display_data"
    },
    {
     "name": "stderr",
     "output_type": "stream",
     "text": [
      "Black is not installed, parameters wont be formatted\n"
     ]
    },
    {
     "name": "stdout",
     "output_type": "stream",
     "text": [
      "{'cust_dir': 'ar3/', 'use_tfidfvectorizer': True, 'tdidf_max_df': 1.0, 'tdidf_min_df': 4, 'use_stopwords': True, 'use_extended_stopwords': False, 'umap_metric': 'hellinger', 'umap_ncomponents': 2, 'umap_random_state': 42, 'umap_min_dist': 0, 'umap_n_neighbors': 30, 'min_cluster': 10, 'max_cluster': 50, 'clust_int': 3, 'ss_min': 50, 'ss_max': 500, 'ss_int': 50, 'cs_min': 50, 'cs_max': 500, 'cs_int': 50, 't_name': 't2.4.1s', 'merge_list': ['t2.4.4']}\n"
     ]
    },
    {
     "data": {
      "application/vnd.jupyter.widget-view+json": {
       "model_id": "52def15f355440768c306bc22f084063",
       "version_major": 2,
       "version_minor": 0
      },
      "text/plain": [
       "Executing:   0%|          | 0/37 [00:00<?, ?cell/s]"
      ]
     },
     "metadata": {},
     "output_type": "display_data"
    },
    {
     "name": "stderr",
     "output_type": "stream",
     "text": [
      "Black is not installed, parameters wont be formatted\n"
     ]
    },
    {
     "name": "stdout",
     "output_type": "stream",
     "text": [
      "{'cust_dir': 'ar3/', 'use_tfidfvectorizer': True, 'tdidf_max_df': 1.0, 'tdidf_min_df': 4, 'use_stopwords': True, 'use_extended_stopwords': False, 'umap_metric': 'hellinger', 'umap_ncomponents': 2, 'umap_random_state': 42, 'umap_min_dist': 0, 'umap_n_neighbors': 30, 'min_cluster': 10, 'max_cluster': 50, 'clust_int': 3, 'ss_min': 50, 'ss_max': 500, 'ss_int': 50, 'cs_min': 50, 'cs_max': 500, 'cs_int': 50, 't_name': 't2.4.1s', 'merge_list': ['t2.4.4', 't2.4.2']}\n"
     ]
    },
    {
     "data": {
      "application/vnd.jupyter.widget-view+json": {
       "model_id": "309a4bcafdaf43f686274970c48ca1e6",
       "version_major": 2,
       "version_minor": 0
      },
      "text/plain": [
       "Executing:   0%|          | 0/37 [00:00<?, ?cell/s]"
      ]
     },
     "metadata": {},
     "output_type": "display_data"
    },
    {
     "name": "stderr",
     "output_type": "stream",
     "text": [
      "Black is not installed, parameters wont be formatted\n"
     ]
    },
    {
     "name": "stdout",
     "output_type": "stream",
     "text": [
      "{'cust_dir': 'ar3/', 'use_tfidfvectorizer': True, 'tdidf_max_df': 1.0, 'tdidf_min_df': 4, 'use_stopwords': True, 'use_extended_stopwords': False, 'umap_metric': 'hellinger', 'umap_ncomponents': 2, 'umap_random_state': 42, 'umap_min_dist': 0, 'umap_n_neighbors': 30, 'min_cluster': 10, 'max_cluster': 50, 'clust_int': 3, 'ss_min': 50, 'ss_max': 500, 'ss_int': 50, 'cs_min': 50, 'cs_max': 500, 'cs_int': 50, 't_name': 't2.4.1s', 'merge_list': ['t2.4.4', 't2.4.2', 't2.4.6']}\n"
     ]
    },
    {
     "data": {
      "application/vnd.jupyter.widget-view+json": {
       "model_id": "b79867d2e9294282889bbd74fe50193a",
       "version_major": 2,
       "version_minor": 0
      },
      "text/plain": [
       "Executing:   0%|          | 0/37 [00:00<?, ?cell/s]"
      ]
     },
     "metadata": {},
     "output_type": "display_data"
    },
    {
     "name": "stderr",
     "output_type": "stream",
     "text": [
      "Black is not installed, parameters wont be formatted\n"
     ]
    },
    {
     "name": "stdout",
     "output_type": "stream",
     "text": [
      "{'cust_dir': 'ar3/', 'use_tfidfvectorizer': True, 'tdidf_max_df': 1.0, 'tdidf_min_df': 4, 'use_stopwords': True, 'use_extended_stopwords': False, 'umap_metric': 'hellinger', 'umap_ncomponents': 2, 'umap_random_state': 42, 'umap_min_dist': 0, 'umap_n_neighbors': 30, 'min_cluster': 10, 'max_cluster': 50, 'clust_int': 3, 'ss_min': 50, 'ss_max': 500, 'ss_int': 50, 'cs_min': 50, 'cs_max': 500, 'cs_int': 50, 't_name': 't2.3.2', 'merge_list': ''}\n"
     ]
    },
    {
     "data": {
      "application/vnd.jupyter.widget-view+json": {
       "model_id": "3103451710894e2d994a5e07b70cc462",
       "version_major": 2,
       "version_minor": 0
      },
      "text/plain": [
       "Executing:   0%|          | 0/37 [00:00<?, ?cell/s]"
      ]
     },
     "metadata": {},
     "output_type": "display_data"
    },
    {
     "name": "stderr",
     "output_type": "stream",
     "text": [
      "Black is not installed, parameters wont be formatted\n"
     ]
    },
    {
     "name": "stdout",
     "output_type": "stream",
     "text": [
      "{'cust_dir': 'ar3/', 'use_tfidfvectorizer': True, 'tdidf_max_df': 1.0, 'tdidf_min_df': 4, 'use_stopwords': True, 'use_extended_stopwords': False, 'umap_metric': 'hellinger', 'umap_ncomponents': 2, 'umap_random_state': 42, 'umap_min_dist': 0, 'umap_n_neighbors': 30, 'min_cluster': 10, 'max_cluster': 50, 'clust_int': 3, 'ss_min': 50, 'ss_max': 500, 'ss_int': 50, 'cs_min': 50, 'cs_max': 500, 'cs_int': 50, 't_name': 't2.3.3', 'merge_list': ''}\n"
     ]
    },
    {
     "data": {
      "application/vnd.jupyter.widget-view+json": {
       "model_id": "87be7f921de24f728a5facb185bd951e",
       "version_major": 2,
       "version_minor": 0
      },
      "text/plain": [
       "Executing:   0%|          | 0/37 [00:00<?, ?cell/s]"
      ]
     },
     "metadata": {},
     "output_type": "display_data"
    },
    {
     "name": "stderr",
     "output_type": "stream",
     "text": [
      "Black is not installed, parameters wont be formatted\n"
     ]
    },
    {
     "name": "stdout",
     "output_type": "stream",
     "text": [
      "{'cust_dir': 'ar3/', 'use_tfidfvectorizer': True, 'tdidf_max_df': 1.0, 'tdidf_min_df': 4, 'use_stopwords': True, 'use_extended_stopwords': False, 'umap_metric': 'hellinger', 'umap_ncomponents': 2, 'umap_random_state': 42, 'umap_min_dist': 0, 'umap_n_neighbors': 30, 'min_cluster': 10, 'max_cluster': 50, 'clust_int': 3, 'ss_min': 50, 'ss_max': 500, 'ss_int': 50, 'cs_min': 50, 'cs_max': 500, 'cs_int': 50, 't_name': 't2.3.5', 'merge_list': ''}\n"
     ]
    },
    {
     "data": {
      "application/vnd.jupyter.widget-view+json": {
       "model_id": "26c54eb7b7954811b4b7fe5fb73ee7cc",
       "version_major": 2,
       "version_minor": 0
      },
      "text/plain": [
       "Executing:   0%|          | 0/37 [00:00<?, ?cell/s]"
      ]
     },
     "metadata": {},
     "output_type": "display_data"
    },
    {
     "name": "stderr",
     "output_type": "stream",
     "text": [
      "Black is not installed, parameters wont be formatted\n"
     ]
    },
    {
     "name": "stdout",
     "output_type": "stream",
     "text": [
      "{'cust_dir': 'ar3/', 'use_tfidfvectorizer': True, 'tdidf_max_df': 1.0, 'tdidf_min_df': 4, 'use_stopwords': True, 'use_extended_stopwords': False, 'umap_metric': 'hellinger', 'umap_ncomponents': 2, 'umap_random_state': 42, 'umap_min_dist': 0, 'umap_n_neighbors': 30, 'min_cluster': 10, 'max_cluster': 50, 'clust_int': 3, 'ss_min': 50, 'ss_max': 500, 'ss_int': 50, 'cs_min': 50, 'cs_max': 500, 'cs_int': 50, 't_name': 't2.3.6', 'merge_list': ''}\n"
     ]
    },
    {
     "data": {
      "application/vnd.jupyter.widget-view+json": {
       "model_id": "7b63dac5762a4b8a80b819d2eb98c073",
       "version_major": 2,
       "version_minor": 0
      },
      "text/plain": [
       "Executing:   0%|          | 0/37 [00:00<?, ?cell/s]"
      ]
     },
     "metadata": {},
     "output_type": "display_data"
    },
    {
     "name": "stderr",
     "output_type": "stream",
     "text": [
      "Black is not installed, parameters wont be formatted\n"
     ]
    },
    {
     "name": "stdout",
     "output_type": "stream",
     "text": [
      "{'cust_dir': 'ar3/', 'use_tfidfvectorizer': True, 'tdidf_max_df': 1.0, 'tdidf_min_df': 4, 'use_stopwords': True, 'use_extended_stopwords': False, 'umap_metric': 'hellinger', 'umap_ncomponents': 2, 'umap_random_state': 42, 'umap_min_dist': 0, 'umap_n_neighbors': 30, 'min_cluster': 10, 'max_cluster': 50, 'clust_int': 3, 'ss_min': 50, 'ss_max': 500, 'ss_int': 50, 'cs_min': 50, 'cs_max': 500, 'cs_int': 50, 't_name': 't2.3.4', 'merge_list': ''}\n"
     ]
    },
    {
     "data": {
      "application/vnd.jupyter.widget-view+json": {
       "model_id": "ffd317d7bb6c48ba98e007bf7d3cac0f",
       "version_major": 2,
       "version_minor": 0
      },
      "text/plain": [
       "Executing:   0%|          | 0/37 [00:00<?, ?cell/s]"
      ]
     },
     "metadata": {},
     "output_type": "display_data"
    },
    {
     "name": "stderr",
     "output_type": "stream",
     "text": [
      "Black is not installed, parameters wont be formatted\n"
     ]
    },
    {
     "name": "stdout",
     "output_type": "stream",
     "text": [
      "{'cust_dir': 'ar3/', 'use_tfidfvectorizer': True, 'tdidf_max_df': 1.0, 'tdidf_min_df': 4, 'use_stopwords': True, 'use_extended_stopwords': False, 'umap_metric': 'hellinger', 'umap_ncomponents': 2, 'umap_random_state': 42, 'umap_min_dist': 0, 'umap_n_neighbors': 30, 'min_cluster': 10, 'max_cluster': 50, 'clust_int': 3, 'ss_min': 50, 'ss_max': 500, 'ss_int': 50, 'cs_min': 50, 'cs_max': 500, 'cs_int': 50, 't_name': 't2.3.6', 'merge_list': ['t2.3.5']}\n"
     ]
    },
    {
     "data": {
      "application/vnd.jupyter.widget-view+json": {
       "model_id": "b757a7e8bd934d22a40427bf9b5fc153",
       "version_major": 2,
       "version_minor": 0
      },
      "text/plain": [
       "Executing:   0%|          | 0/37 [00:00<?, ?cell/s]"
      ]
     },
     "metadata": {},
     "output_type": "display_data"
    },
    {
     "name": "stderr",
     "output_type": "stream",
     "text": [
      "Black is not installed, parameters wont be formatted\n"
     ]
    },
    {
     "name": "stdout",
     "output_type": "stream",
     "text": [
      "{'cust_dir': 'ar3/', 'use_tfidfvectorizer': True, 'tdidf_max_df': 1.0, 'tdidf_min_df': 4, 'use_stopwords': True, 'use_extended_stopwords': False, 'umap_metric': 'hellinger', 'umap_ncomponents': 2, 'umap_random_state': 42, 'umap_min_dist': 0, 'umap_n_neighbors': 30, 'min_cluster': 10, 'max_cluster': 50, 'clust_int': 3, 'ss_min': 50, 'ss_max': 500, 'ss_int': 50, 'cs_min': 50, 'cs_max': 500, 'cs_int': 50, 't_name': 't2.3.6', 'merge_list': ['t2.3.3', 't2.3.5']}\n"
     ]
    },
    {
     "data": {
      "application/vnd.jupyter.widget-view+json": {
       "model_id": "180e101a9bc74354ab2f3475ae4392d3",
       "version_major": 2,
       "version_minor": 0
      },
      "text/plain": [
       "Executing:   0%|          | 0/37 [00:00<?, ?cell/s]"
      ]
     },
     "metadata": {},
     "output_type": "display_data"
    },
    {
     "name": "stderr",
     "output_type": "stream",
     "text": [
      "Black is not installed, parameters wont be formatted\n"
     ]
    },
    {
     "name": "stdout",
     "output_type": "stream",
     "text": [
      "{'cust_dir': 'ar3/', 'use_tfidfvectorizer': True, 'tdidf_max_df': 1.0, 'tdidf_min_df': 4, 'use_stopwords': True, 'use_extended_stopwords': False, 'umap_metric': 'hellinger', 'umap_ncomponents': 2, 'umap_random_state': 42, 'umap_min_dist': 0, 'umap_n_neighbors': 30, 'min_cluster': 10, 'max_cluster': 50, 'clust_int': 3, 'ss_min': 50, 'ss_max': 500, 'ss_int': 50, 'cs_min': 50, 'cs_max': 500, 'cs_int': 50, 't_name': 't2.3.1s', 'merge_list': ['t2.3.2']}\n"
     ]
    },
    {
     "data": {
      "application/vnd.jupyter.widget-view+json": {
       "model_id": "1fe958399bbd460ea3476de4c118165a",
       "version_major": 2,
       "version_minor": 0
      },
      "text/plain": [
       "Executing:   0%|          | 0/37 [00:00<?, ?cell/s]"
      ]
     },
     "metadata": {},
     "output_type": "display_data"
    }
   ],
   "source": [
    "# contents of `papermill_runner.py`\n",
    "import papermill as pm\n",
    "\n",
    "defaults = {\n",
    "    'cust_dir': 'ar3/',\n",
    "    'use_tfidfvectorizer': True,\n",
    "    'tdidf_max_df': 1.0,\n",
    "    'tdidf_min_df': 4,\n",
    "    'use_stopwords': True,\n",
    "    'use_extended_stopwords': False,\n",
    "    'umap_metric': 'hellinger',\n",
    "    'umap_ncomponents': 2,\n",
    "    'umap_random_state': 42,\n",
    "    'umap_min_dist': 0, #0.1\n",
    "    'umap_n_neighbors': 30, #10,30\n",
    "    'min_cluster':10,\n",
    "    'max_cluster':50,\n",
    "    'clust_int':3,\n",
    "    'ss_min':50,\n",
    "    'ss_max': 500,\n",
    "    'ss_int': 50,\n",
    "    'cs_min': 50,\n",
    "    'cs_max': 500,\n",
    "    'cs_int': 50\n",
    "}\n",
    "\n",
    "testsets_ar1_ar2 = [('t1', ''), # i ran these in the first 2 experiments\n",
    "            ('t1.1', ''),\n",
    "            ('t1.2', ''),\n",
    "            ('t1.3', ''),\n",
    "            ('t1.3.1', ''),\n",
    "            ('t1.4', ''),\n",
    "            ('t1', ['t1.1', 't1.2', 't1.3', 't1.4']),\n",
    "            ('t2.3.1s', ''), #readme\n",
    "            ('t2.3.1s', ['t2.3.2', 't2.3.4', 't2.3.6', 't2.3.3']),\n",
    "            ('t2.5.1s', ['t2.5.2', 't2.5.4', 't2.5.6', 't2.5.3']),\n",
    "            ('t2.5.1s', ''), #readme\n",
    "            ('t2.5.1s', ['t2.5.2', 't2.5.4']),\n",
    "            ('t2.5.1s', ['t2.5.2', 't2.5.4', 't2.5.6']),\n",
    "            ('t2.3.1s', ['t2.3.2', 't2.3.4']),\n",
    "            ('t2.3.1s', ['t2.3.2', 't2.3.4', 't2.3.6']),\n",
    "            ('t2.5.1', ''), #readme\n",
    "            ('t2.3.1', ''), #readme\n",
    "           ]\n",
    "# todo add others also single to see how they perform\n",
    "\n",
    "#ar3 has to be run also with t2.3 or t2.5\n",
    "testsets = [\n",
    "            ('t2.4.2', ''), #about\n",
    "            ('t2.4.3', ''), #tree\n",
    "            ('t2.4.5', ''), #languages\n",
    "            ('t2.4.6', ''), #name\n",
    "            ('t2.4.4', ''), #topics\n",
    "            # will they outperform?\n",
    "            ('t2.4.6', ['t2.4.3']), #name, tree\n",
    "            ('t2.4.6', ['t2.4.5']), #name, languages\n",
    "            ('t2.4.6', ['t2.4.3', 't2.4.5']), #name, tree, languages            \n",
    "            ('t2.4.1s', ['t2.4.2']), #readme + about\n",
    "            ('t2.4.1s', ['t2.4.2', 't2.4.6']), #readme + about + name\n",
    "            ('t2.4.1s', ['t2.4.2', 't2.4.6', 't2.4.3']), #readme + about + name + tree\n",
    "            ('t2.4.1s', ['t2.4.2', 't2.4.6', 't2.4.3', 't2.4.5']), #readme + about + name + tree + languages\n",
    "            ('t2.4.1s', ''), #readme\n",
    "            ('t2.4.1s', ['t2.4.4']), #readme + topics\n",
    "            ('t2.4.1s', ['t2.4.4', 't2.4.2']), #readme + topics + about\n",
    "            ('t2.4.1s', ['t2.4.4', 't2.4.2', 't2.4.6']), #readme + topics + about + name\n",
    "    ###\n",
    "            ('t2.3.2', ''), #about\n",
    "            ('t2.3.3', ''), #tree\n",
    "            ('t2.3.5', ''), #languages\n",
    "            ('t2.3.6', ''), #name\n",
    "            ('t2.3.4', ''), #topics\n",
    "            # will they outperform?\n",
    "            ('t2.3.6', ['t2.3.3']), #name, tree\n",
    "            ('t2.3.6', ['t2.3.5']), #name, languages\n",
    "            ('t2.3.6', ['t2.3.3', 't2.3.5']), #name, tree, languages            \n",
    "            ('t2.3.1s', ['t2.3.2']), #readme + about\n",
    "            ('t2.3.1s', ['t2.3.2', 't2.3.6']), #readme + about + name\n",
    "            ('t2.3.1s', ['t2.3.2', 't2.3.6', 't2.3.3']), #readme + about + name + tree\n",
    "            ('t2.3.1s', ['t2.3.2', 't2.3.6', 't2.3.3', 't2.3.5']), #readme + about + name + tree + languages\n",
    "            ('t2.3.1s', ''), #readme\n",
    "            ('t2.3.1s', ['t2.3.4']), #readme + topics\n",
    "            ('t2.3.1s', ['t2.3.4', 't2.3.2']), #readme + topics + about\n",
    "            ('t2.3.1s', ['t2.3.4', 't2.3.2', 't2.3.6']), #readme + topics + about + name\n",
    "    ####\n",
    "            ('t2.5.2', ''), #about\n",
    "            ('t2.5.3', ''), #tree\n",
    "            ('t2.5.5', ''), #languages\n",
    "            ('t2.5.6', ''), #name\n",
    "            ('t2.5.4', ''), #topics\n",
    "            # will they outperform?\n",
    "            ('t2.5.6', ['t2.5.3']), #name, tree\n",
    "            ('t2.5.6', ['t2.5.5']), #name, languages\n",
    "            ('t2.5.6', ['t2.5.3', 't2.5.5']), #name, tree, languages            \n",
    "            ('t2.5.1s', ['t2.5.2']), #readme + about\n",
    "            ('t2.5.1s', ['t2.5.2', 't2.5.6']), #readme + about + name\n",
    "            ('t2.5.1s', ['t2.5.2', 't2.5.6', 't2.5.3']), #readme + about + name + tree\n",
    "            ('t2.5.1s', ['t2.5.2', 't2.5.6', 't2.5.3', 't2.5.5']), #readme + about + name + tree + languages\n",
    "            ('t2.5.1s', ''), #readme\n",
    "            ('t2.5.1s', ['t2.5.4']), #readme + topics\n",
    "            ('t2.5.1s', ['t2.5.4', 't2.5.2']), #readme + topics + about\n",
    "            ('t2.5.1s', ['t2.5.4', 't2.5.2', 't2.5.6']), #readme + topics + about + name\n",
    "           ]\n",
    "\n",
    "parameters = []\n",
    "\n",
    "for t in testsets:\n",
    "    params = defaults.copy()\n",
    "    params['t_name'] = t[0]\n",
    "    params['merge_list'] = t[1]\n",
    "    parameters.append(params)\n",
    "\n",
    "\n",
    "for params in parameters:\n",
    "    print(params)\n",
    "    pm.execute_notebook(\n",
    "        \"3_UMAP_CLUSTER_RUNNER.ipynb\",\n",
    "        f\"{defaults['cust_dir']}output-notebook-{params['t_name']}-{'+'.join(params['merge_list'])}.ipynb\",\n",
    "        #kernel_name=\"ipykernel\",\n",
    "        parameters=params\n",
    "    )"
   ]
  },
  {
   "cell_type": "code",
   "execution_count": 13,
   "id": "27a123ac",
   "metadata": {},
   "outputs": [
    {
     "name": "stdout",
     "output_type": "stream",
     "text": [
      "[('t1', ''), ('t1.1', ''), ('t1.2', ''), ('t1.3', ''), ('t1.3.1', ''), ('t1.4', ''), ('t1', ['t1.1', 't1.2', 't1.3', 't1.4']), ('t2.3.1s', ''), ('t2.3.1s', ['t2.3.2', 't2.3.4', 't2.3.6', 't2.3.3']), ('t2.5.1s', ['t2.5.2', 't2.5.4', 't2.5.6', 't2.5.3']), ('t2.5.1s', ''), ('t2.5.1s', ['t2.5.2', 't2.5.4']), ('t2.5.1s', ['t2.5.2', 't2.5.4', 't2.5.6']), ('t2.3.1s', ['t2.3.2', 't2.3.4']), ('t2.3.1s', ['t2.3.2', 't2.3.4', 't2.3.6']), ('t2.5.1', ''), ('t2.3.1', '')]\n"
     ]
    }
   ],
   "source": [
    "print(testsets)"
   ]
  },
  {
   "cell_type": "code",
   "execution_count": null,
   "id": "1b52decc",
   "metadata": {},
   "outputs": [],
   "source": []
  }
 ],
 "metadata": {
  "kernelspec": {
   "display_name": "Python 3 (ipykernel)",
   "language": "python",
   "name": "python3"
  },
  "language_info": {
   "codemirror_mode": {
    "name": "ipython",
    "version": 3
   },
   "file_extension": ".py",
   "mimetype": "text/x-python",
   "name": "python",
   "nbconvert_exporter": "python",
   "pygments_lexer": "ipython3",
   "version": "3.9.2"
  }
 },
 "nbformat": 4,
 "nbformat_minor": 5
}
