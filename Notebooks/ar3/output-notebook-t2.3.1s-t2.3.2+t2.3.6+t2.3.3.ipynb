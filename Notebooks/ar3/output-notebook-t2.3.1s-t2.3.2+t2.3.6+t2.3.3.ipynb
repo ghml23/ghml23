{
 "cells": [
  {
   "cell_type": "code",
   "execution_count": 1,
   "id": "8fee1122",
   "metadata": {
    "execution": {
     "iopub.execute_input": "2023-10-13T04:04:36.229355Z",
     "iopub.status.busy": "2023-10-13T04:04:36.228908Z",
     "iopub.status.idle": "2023-10-13T04:04:37.059166Z",
     "shell.execute_reply": "2023-10-13T04:04:37.058460Z"
    },
    "papermill": {
     "duration": 0.840567,
     "end_time": "2023-10-13T04:04:37.061337",
     "exception": false,
     "start_time": "2023-10-13T04:04:36.220770",
     "status": "completed"
    },
    "tags": []
   },
   "outputs": [],
   "source": [
    "# prepare data\n",
    "import pandas as pd\n",
    "import numpy as np\n",
    "import matplotlib.pyplot as plt\n",
    "import seaborn as sns\n",
    "import os, json\n",
    "import glob\n",
    "import operator\n",
    "from IPython.display import display, HTML"
   ]
  },
  {
   "cell_type": "code",
   "execution_count": 2,
   "id": "35fce104",
   "metadata": {
    "execution": {
     "iopub.execute_input": "2023-10-13T04:04:37.071527Z",
     "iopub.status.busy": "2023-10-13T04:04:37.071076Z",
     "iopub.status.idle": "2023-10-13T04:04:37.342425Z",
     "shell.execute_reply": "2023-10-13T04:04:37.341810Z"
    },
    "papermill": {
     "duration": 0.27799,
     "end_time": "2023-10-13T04:04:37.344266",
     "exception": false,
     "start_time": "2023-10-13T04:04:37.066276",
     "status": "completed"
    },
    "tags": []
   },
   "outputs": [
    {
     "ename": "ModuleNotFoundError",
     "evalue": "No module named 'shared_globals_functions'",
     "output_type": "error",
     "traceback": [
      "\u001b[0;31m---------------------------------------------------------------------------\u001b[0m",
      "\u001b[0;31mModuleNotFoundError\u001b[0m                       Traceback (most recent call last)",
      "Input \u001b[0;32mIn [2]\u001b[0m, in \u001b[0;36m<cell line: 4>\u001b[0;34m()\u001b[0m\n\u001b[1;32m      1\u001b[0m get_ipython()\u001b[38;5;241m.\u001b[39mrun_line_magic(\u001b[38;5;124m'\u001b[39m\u001b[38;5;124mload_ext\u001b[39m\u001b[38;5;124m'\u001b[39m, \u001b[38;5;124m'\u001b[39m\u001b[38;5;124mautoreload\u001b[39m\u001b[38;5;124m'\u001b[39m)\n\u001b[1;32m      2\u001b[0m get_ipython()\u001b[38;5;241m.\u001b[39mrun_line_magic(\u001b[38;5;124m'\u001b[39m\u001b[38;5;124mautoreload\u001b[39m\u001b[38;5;124m'\u001b[39m, \u001b[38;5;124m'\u001b[39m\u001b[38;5;124m1\u001b[39m\u001b[38;5;124m'\u001b[39m)\n\u001b[0;32m----> 4\u001b[0m \u001b[38;5;28;01mfrom\u001b[39;00m \u001b[38;5;21;01mshared_globals_functions\u001b[39;00m \u001b[38;5;28;01mimport\u001b[39;00m \u001b[38;5;241m*\u001b[39m\n\u001b[1;32m      5\u001b[0m get_ipython()\u001b[38;5;241m.\u001b[39mrun_line_magic(\u001b[38;5;124m'\u001b[39m\u001b[38;5;124maimport\u001b[39m\u001b[38;5;124m'\u001b[39m, \u001b[38;5;124m'\u001b[39m\u001b[38;5;124mshared_globals_functions\u001b[39m\u001b[38;5;124m'\u001b[39m)\n",
      "\u001b[0;31mModuleNotFoundError\u001b[0m: No module named 'shared_globals_functions'"
     ]
    }
   ],
   "source": [
    "%load_ext autoreload\n",
    "%autoreload 1\n",
    "\n",
    "from shared_globals_functions import *\n",
    "%aimport shared_globals_functions"
   ]
  },
  {
   "cell_type": "code",
   "execution_count": 3,
   "id": "2eb27b81",
   "metadata": {
    "execution": {
     "iopub.execute_input": "2023-10-13T04:04:37.354010Z",
     "iopub.status.busy": "2023-10-13T04:04:37.353781Z",
     "iopub.status.idle": "2023-10-13T04:04:37.360334Z",
     "shell.execute_reply": "2023-10-13T04:04:37.359792Z"
    },
    "papermill": {
     "duration": 0.012348,
     "end_time": "2023-10-13T04:04:37.361575",
     "exception": false,
     "start_time": "2023-10-13T04:04:37.349227",
     "status": "completed"
    },
    "tags": [
     "parameters"
    ]
   },
   "outputs": [],
   "source": [
    "t_name='t1'\n",
    "merge_list=['t1.1', 't1.2', 't1.3', 't1.4']\n",
    "\n",
    "cust_dir = 'test'\n",
    "\n",
    "tdidf_max_df=1.0 # defaults to 1.0 (float), can be an int too\n",
    "tdidf_min_df=4\n",
    "use_tfidfvectorizer = True\n",
    "use_stopwords = True\n",
    "use_extended_stopwords = False\n",
    "\n",
    "umap_metric='hellinger'\n",
    "umap_ncomponents=2\n",
    "umap_random_state=42\n",
    "umap_min_dist=0 #0.1\n",
    "umap_n_neighbors=30 #10, 30\n",
    "\n",
    "min_cluster=10\n",
    "max_cluster=30\n",
    "clust_int=3\n",
    "\n",
    "ss_min = 50\n",
    "ss_max = 500\n",
    "ss_int = 50\n",
    "cs_min = 50\n",
    "cs_max = 500\n",
    "cs_int = 50\n",
    "\n",
    "#tf-idf vectorizer\n",
    "#max_df=0.3\n",
    "#min_df=\n",
    "\n",
    "#kmeans\n",
    "#n_clusters\n",
    "#n_init\n",
    "#max_iter"
   ]
  },
  {
   "cell_type": "code",
   "execution_count": 4,
   "id": "b2406756",
   "metadata": {
    "execution": {
     "iopub.execute_input": "2023-10-13T04:04:37.368732Z",
     "iopub.status.busy": "2023-10-13T04:04:37.368496Z",
     "iopub.status.idle": "2023-10-13T04:04:37.372501Z",
     "shell.execute_reply": "2023-10-13T04:04:37.371953Z"
    },
    "papermill": {
     "duration": 0.009244,
     "end_time": "2023-10-13T04:04:37.373708",
     "exception": false,
     "start_time": "2023-10-13T04:04:37.364464",
     "status": "completed"
    },
    "tags": [
     "injected-parameters"
    ]
   },
   "outputs": [],
   "source": [
    "# Parameters\n",
    "cust_dir = \"ar3/\"\n",
    "use_tfidfvectorizer = True\n",
    "tdidf_max_df = 1.0\n",
    "tdidf_min_df = 4\n",
    "use_stopwords = True\n",
    "use_extended_stopwords = False\n",
    "umap_metric = \"hellinger\"\n",
    "umap_ncomponents = 2\n",
    "umap_random_state = 42\n",
    "umap_min_dist = 0\n",
    "umap_n_neighbors = 30\n",
    "min_cluster = 10\n",
    "max_cluster = 50\n",
    "clust_int = 3\n",
    "ss_min = 50\n",
    "ss_max = 500\n",
    "ss_int = 50\n",
    "cs_min = 50\n",
    "cs_max = 500\n",
    "cs_int = 50\n",
    "t_name = \"t2.3.1s\"\n",
    "merge_list = [\"t2.3.2\", \"t2.3.6\", \"t2.3.3\"]\n"
   ]
  },
  {
   "cell_type": "code",
   "execution_count": 5,
   "id": "65853999",
   "metadata": {
    "execution": {
     "iopub.execute_input": "2023-10-13T04:04:37.381057Z",
     "iopub.status.busy": "2023-10-13T04:04:37.380888Z",
     "iopub.status.idle": "2023-10-13T04:04:37.685913Z",
     "shell.execute_reply": "2023-10-13T04:04:37.685188Z"
    },
    "papermill": {
     "duration": 0.310283,
     "end_time": "2023-10-13T04:04:37.687455",
     "exception": false,
     "start_time": "2023-10-13T04:04:37.377172",
     "status": "completed"
    },
    "tags": []
   },
   "outputs": [
    {
     "name": "stdout",
     "output_type": "stream",
     "text": [
      "reading /home/manuel/d3tect-tools/Notebooks/raw_testdata_v1/t2.3.1s.pkl\n"
     ]
    }
   ],
   "source": [
    "testset = from_disk(t_name)"
   ]
  },
  {
   "cell_type": "code",
   "execution_count": 6,
   "id": "2a25eb77",
   "metadata": {
    "execution": {
     "iopub.execute_input": "2023-10-13T04:04:37.696529Z",
     "iopub.status.busy": "2023-10-13T04:04:37.696262Z",
     "iopub.status.idle": "2023-10-13T04:04:37.874283Z",
     "shell.execute_reply": "2023-10-13T04:04:37.873649Z"
    },
    "papermill": {
     "duration": 0.183936,
     "end_time": "2023-10-13T04:04:37.875499",
     "exception": false,
     "start_time": "2023-10-13T04:04:37.691563",
     "status": "completed"
    },
    "tags": []
   },
   "outputs": [
    {
     "data": {
      "text/plain": [
       "218335"
      ]
     },
     "execution_count": 6,
     "metadata": {},
     "output_type": "execute_result"
    }
   ],
   "source": [
    "len(testset[testset['topics'].str.len() > 0])"
   ]
  },
  {
   "cell_type": "code",
   "execution_count": 7,
   "id": "bab9533a",
   "metadata": {
    "execution": {
     "iopub.execute_input": "2023-10-13T04:04:37.884213Z",
     "iopub.status.busy": "2023-10-13T04:04:37.883924Z",
     "iopub.status.idle": "2023-10-13T04:04:37.892835Z",
     "shell.execute_reply": "2023-10-13T04:04:37.892035Z"
    },
    "papermill": {
     "duration": 0.014261,
     "end_time": "2023-10-13T04:04:37.894092",
     "exception": false,
     "start_time": "2023-10-13T04:04:37.879831",
     "status": "completed"
    },
    "tags": []
   },
   "outputs": [
    {
     "name": "stdout",
     "output_type": "stream",
     "text": [
      "t2.3.1s+2.3.2+2.3.6+2.3.3\n"
     ]
    }
   ],
   "source": [
    "if len(merge_list)>0:\n",
    "    t_name = f'{t_name}+{\"+\".join([re.sub(r\"t\", \"\", tid) for tid in merge_list])}'\n",
    "    print(t_name)"
   ]
  },
  {
   "cell_type": "code",
   "execution_count": 8,
   "id": "25566136",
   "metadata": {
    "execution": {
     "iopub.execute_input": "2023-10-13T04:04:37.902926Z",
     "iopub.status.busy": "2023-10-13T04:04:37.902661Z",
     "iopub.status.idle": "2023-10-13T04:04:47.698463Z",
     "shell.execute_reply": "2023-10-13T04:04:47.697834Z"
    },
    "papermill": {
     "duration": 9.802275,
     "end_time": "2023-10-13T04:04:47.700013",
     "exception": false,
     "start_time": "2023-10-13T04:04:37.897738",
     "status": "completed"
    },
    "scrolled": true,
    "tags": []
   },
   "outputs": [
    {
     "name": "stdout",
     "output_type": "stream",
     "text": [
      "reading /home/manuel/d3tect-tools/Notebooks/raw_testdata_v1/t2.3.2.pkl\n",
      "reading /home/manuel/d3tect-tools/Notebooks/raw_testdata_v1/t2.3.6.pkl\n",
      "reading /home/manuel/d3tect-tools/Notebooks/raw_testdata_v1/t2.3.3.pkl\n"
     ]
    }
   ],
   "source": [
    "testset_merge = create_merge(testset, merge_list, merge_to_one=True)"
   ]
  },
  {
   "cell_type": "code",
   "execution_count": 9,
   "id": "b155106a",
   "metadata": {
    "execution": {
     "iopub.execute_input": "2023-10-13T04:04:47.714082Z",
     "iopub.status.busy": "2023-10-13T04:04:47.713860Z",
     "iopub.status.idle": "2023-10-13T04:04:47.775212Z",
     "shell.execute_reply": "2023-10-13T04:04:47.774717Z"
    },
    "papermill": {
     "duration": 0.071882,
     "end_time": "2023-10-13T04:04:47.776304",
     "exception": false,
     "start_time": "2023-10-13T04:04:47.704422",
     "status": "completed"
    },
    "tags": []
   },
   "outputs": [
    {
     "data": {
      "text/plain": [
       "218335"
      ]
     },
     "execution_count": 9,
     "metadata": {},
     "output_type": "execute_result"
    }
   ],
   "source": [
    "len(testset_merge[testset_merge['topics'].str.len() > 0])"
   ]
  },
  {
   "cell_type": "code",
   "execution_count": 10,
   "id": "da778151",
   "metadata": {
    "execution": {
     "iopub.execute_input": "2023-10-13T04:04:47.784425Z",
     "iopub.status.busy": "2023-10-13T04:04:47.783887Z",
     "iopub.status.idle": "2023-10-13T04:04:47.952139Z",
     "shell.execute_reply": "2023-10-13T04:04:47.951637Z"
    },
    "papermill": {
     "duration": 0.173745,
     "end_time": "2023-10-13T04:04:47.953586",
     "exception": false,
     "start_time": "2023-10-13T04:04:47.779841",
     "status": "completed"
    },
    "tags": []
   },
   "outputs": [],
   "source": [
    "df = testset_merge.merge(testset, on=['name'], how='left', indicator=True)"
   ]
  },
  {
   "cell_type": "code",
   "execution_count": 11,
   "id": "d83ddb08",
   "metadata": {
    "execution": {
     "iopub.execute_input": "2023-10-13T04:04:47.962722Z",
     "iopub.status.busy": "2023-10-13T04:04:47.962314Z",
     "iopub.status.idle": "2023-10-13T04:04:47.970595Z",
     "shell.execute_reply": "2023-10-13T04:04:47.970185Z"
    },
    "papermill": {
     "duration": 0.013778,
     "end_time": "2023-10-13T04:04:47.971679",
     "exception": false,
     "start_time": "2023-10-13T04:04:47.957901",
     "status": "completed"
    },
    "scrolled": true,
    "tags": []
   },
   "outputs": [
    {
     "data": {
      "text/html": [
       "<div>\n",
       "<style scoped>\n",
       "    .dataframe tbody tr th:only-of-type {\n",
       "        vertical-align: middle;\n",
       "    }\n",
       "\n",
       "    .dataframe tbody tr th {\n",
       "        vertical-align: top;\n",
       "    }\n",
       "\n",
       "    .dataframe thead th {\n",
       "        text-align: right;\n",
       "    }\n",
       "</style>\n",
       "<table border=\"1\" class=\"dataframe\">\n",
       "  <thead>\n",
       "    <tr style=\"text-align: right;\">\n",
       "      <th></th>\n",
       "      <th>name</th>\n",
       "      <th>topics_x</th>\n",
       "      <th>topics_y</th>\n",
       "      <th>_merge</th>\n",
       "    </tr>\n",
       "  </thead>\n",
       "  <tbody>\n",
       "  </tbody>\n",
       "</table>\n",
       "</div>"
      ],
      "text/plain": [
       "Empty DataFrame\n",
       "Columns: [name, topics_x, topics_y, _merge]\n",
       "Index: []"
      ]
     },
     "execution_count": 11,
     "metadata": {},
     "output_type": "execute_result"
    }
   ],
   "source": [
    "df[df['_merge']!='both']"
   ]
  },
  {
   "cell_type": "code",
   "execution_count": 12,
   "id": "ae26c1f2",
   "metadata": {
    "execution": {
     "iopub.execute_input": "2023-10-13T04:04:47.979773Z",
     "iopub.status.busy": "2023-10-13T04:04:47.979486Z",
     "iopub.status.idle": "2023-10-13T04:04:48.033540Z",
     "shell.execute_reply": "2023-10-13T04:04:48.032996Z"
    },
    "papermill": {
     "duration": 0.059227,
     "end_time": "2023-10-13T04:04:48.034614",
     "exception": false,
     "start_time": "2023-10-13T04:04:47.975387",
     "status": "completed"
    },
    "tags": []
   },
   "outputs": [
    {
     "data": {
      "text/html": [
       "<div>\n",
       "<style scoped>\n",
       "    .dataframe tbody tr th:only-of-type {\n",
       "        vertical-align: middle;\n",
       "    }\n",
       "\n",
       "    .dataframe tbody tr th {\n",
       "        vertical-align: top;\n",
       "    }\n",
       "\n",
       "    .dataframe thead th {\n",
       "        text-align: right;\n",
       "    }\n",
       "</style>\n",
       "<table border=\"1\" class=\"dataframe\">\n",
       "  <thead>\n",
       "    <tr style=\"text-align: right;\">\n",
       "      <th></th>\n",
       "      <th>name</th>\n",
       "      <th>topics_x</th>\n",
       "      <th>topics_y</th>\n",
       "      <th>_merge</th>\n",
       "    </tr>\n",
       "  </thead>\n",
       "  <tbody>\n",
       "  </tbody>\n",
       "</table>\n",
       "</div>"
      ],
      "text/plain": [
       "Empty DataFrame\n",
       "Columns: [name, topics_x, topics_y, _merge]\n",
       "Index: []"
      ]
     },
     "execution_count": 12,
     "metadata": {},
     "output_type": "execute_result"
    }
   ],
   "source": [
    "df[df['topics_x'].str.len() == 0]"
   ]
  },
  {
   "cell_type": "code",
   "execution_count": 13,
   "id": "3e120429",
   "metadata": {
    "execution": {
     "iopub.execute_input": "2023-10-13T04:04:48.043503Z",
     "iopub.status.busy": "2023-10-13T04:04:48.042952Z",
     "iopub.status.idle": "2023-10-13T04:04:48.051667Z",
     "shell.execute_reply": "2023-10-13T04:04:48.051251Z"
    },
    "papermill": {
     "duration": 0.014543,
     "end_time": "2023-10-13T04:04:48.052794",
     "exception": false,
     "start_time": "2023-10-13T04:04:48.038251",
     "status": "completed"
    },
    "tags": []
   },
   "outputs": [],
   "source": [
    "if len(merge_list)>0:\n",
    "    testset = testset_merge"
   ]
  },
  {
   "cell_type": "code",
   "execution_count": 14,
   "id": "3106a1eb",
   "metadata": {
    "execution": {
     "iopub.execute_input": "2023-10-13T04:04:48.061207Z",
     "iopub.status.busy": "2023-10-13T04:04:48.060651Z",
     "iopub.status.idle": "2023-10-13T04:04:52.081652Z",
     "shell.execute_reply": "2023-10-13T04:04:52.081166Z"
    },
    "papermill": {
     "duration": 4.0268,
     "end_time": "2023-10-13T04:04:52.083245",
     "exception": false,
     "start_time": "2023-10-13T04:04:48.056445",
     "status": "completed"
    },
    "tags": []
   },
   "outputs": [],
   "source": [
    "import pandas as pd\n",
    "import umap\n",
    "from sklearn.feature_extraction.text import CountVectorizer, TfidfVectorizer"
   ]
  },
  {
   "cell_type": "code",
   "execution_count": 15,
   "id": "75eaf1e8",
   "metadata": {
    "execution": {
     "iopub.execute_input": "2023-10-13T04:04:52.093432Z",
     "iopub.status.busy": "2023-10-13T04:04:52.092787Z",
     "iopub.status.idle": "2023-10-13T04:04:52.095903Z",
     "shell.execute_reply": "2023-10-13T04:04:52.095499Z"
    },
    "papermill": {
     "duration": 0.008741,
     "end_time": "2023-10-13T04:04:52.096962",
     "exception": false,
     "start_time": "2023-10-13T04:04:52.088221",
     "status": "completed"
    },
    "tags": []
   },
   "outputs": [],
   "source": [
    "orig_testset = testset"
   ]
  },
  {
   "cell_type": "code",
   "execution_count": 16,
   "id": "2820a13c",
   "metadata": {
    "execution": {
     "iopub.execute_input": "2023-10-13T04:04:52.160796Z",
     "iopub.status.busy": "2023-10-13T04:04:52.160438Z",
     "iopub.status.idle": "2023-10-13T04:05:09.024090Z",
     "shell.execute_reply": "2023-10-13T04:05:09.023591Z"
    },
    "papermill": {
     "duration": 16.925097,
     "end_time": "2023-10-13T04:05:09.025633",
     "exception": false,
     "start_time": "2023-10-13T04:04:52.100536",
     "status": "completed"
    },
    "tags": []
   },
   "outputs": [
    {
     "name": "stdout",
     "output_type": "stream",
     "text": [
      "total repos 218335\n",
      "topics came as list ... consider joining it before\n"
     ]
    }
   ],
   "source": [
    "my_stop_words=None\n",
    "if use_stopwords:\n",
    "    my_stop_words='english'\n",
    "    if use_extended_stopwords:\n",
    "        print(\"todo\")\n",
    "\n",
    "if use_tfidfvectorizer:\n",
    "    vectorizer = TfidfVectorizer(min_df=tdidf_min_df, max_df=tdidf_max_df, stop_words=my_stop_words)\n",
    "else:\n",
    "    vectorizer = CountVectorizer(min_df=tdidf_min_df, max_df=tdidf_max_df, stop_words=my_stop_words)\n",
    "\n",
    "print(f\"total repos {len(testset[testset['topics'].str.len() > 0])}\")\n",
    "testset = testset[testset['topics'].str.len() > 0].reset_index()\n",
    "\n",
    "if isinstance(testset['topics'][0], list):\n",
    "    testset['topics'] = testset['topics'].apply(lambda x: ' '.join(x))\n",
    "    print(\"topics came as list ... consider joining it before\")\n",
    "\n",
    "cr_start()\n",
    "word_doc_matrix = vectorizer.fit_transform(testset['topics'])\n",
    "runtime_vectorizer = cr_getrt()"
   ]
  },
  {
   "cell_type": "code",
   "execution_count": 17,
   "id": "458827b2",
   "metadata": {
    "execution": {
     "iopub.execute_input": "2023-10-13T04:05:09.036123Z",
     "iopub.status.busy": "2023-10-13T04:05:09.035696Z",
     "iopub.status.idle": "2023-10-13T04:05:09.039590Z",
     "shell.execute_reply": "2023-10-13T04:05:09.039206Z"
    },
    "papermill": {
     "duration": 0.00988,
     "end_time": "2023-10-13T04:05:09.040602",
     "exception": false,
     "start_time": "2023-10-13T04:05:09.030722",
     "status": "completed"
    },
    "tags": []
   },
   "outputs": [
    {
     "data": {
      "text/plain": [
       "16.141873836517334"
      ]
     },
     "execution_count": 17,
     "metadata": {},
     "output_type": "execute_result"
    }
   ],
   "source": [
    "runtime_vectorizer"
   ]
  },
  {
   "cell_type": "code",
   "execution_count": 18,
   "id": "d916f58f",
   "metadata": {
    "execution": {
     "iopub.execute_input": "2023-10-13T04:05:09.054288Z",
     "iopub.status.busy": "2023-10-13T04:05:09.053781Z",
     "iopub.status.idle": "2023-10-13T04:05:09.057226Z",
     "shell.execute_reply": "2023-10-13T04:05:09.056851Z"
    },
    "papermill": {
     "duration": 0.013732,
     "end_time": "2023-10-13T04:05:09.058317",
     "exception": false,
     "start_time": "2023-10-13T04:05:09.044585",
     "status": "completed"
    },
    "tags": []
   },
   "outputs": [
    {
     "data": {
      "text/plain": [
       "<218335x11430 sparse matrix of type '<class 'numpy.float64'>'\n",
       "\twith 30735260 stored elements in Compressed Sparse Row format>"
      ]
     },
     "execution_count": 18,
     "metadata": {},
     "output_type": "execute_result"
    }
   ],
   "source": [
    "word_doc_matrix"
   ]
  },
  {
   "cell_type": "code",
   "execution_count": 19,
   "id": "e32433c8",
   "metadata": {
    "execution": {
     "iopub.execute_input": "2023-10-13T04:05:09.067509Z",
     "iopub.status.busy": "2023-10-13T04:05:09.067038Z",
     "iopub.status.idle": "2023-10-13T04:05:09.070164Z",
     "shell.execute_reply": "2023-10-13T04:05:09.069786Z"
    },
    "papermill": {
     "duration": 0.008784,
     "end_time": "2023-10-13T04:05:09.071252",
     "exception": false,
     "start_time": "2023-10-13T04:05:09.062468",
     "status": "completed"
    },
    "tags": []
   },
   "outputs": [],
   "source": [
    "class ProgressWriter:\n",
    "    def write(self, text):\n",
    "        print(\"custom progress\", n, total)\n",
    "\n",
    "    def flush(self):\n",
    "        pass\n",
    "\n",
    "#tqdm_kwds = {\"file\": \"progress_writer\", \"disable\": False }\n",
    "tqdm_kwds = {\"disable\": False }   \n"
   ]
  },
  {
   "cell_type": "code",
   "execution_count": 20,
   "id": "32b7be2d",
   "metadata": {
    "execution": {
     "iopub.execute_input": "2023-10-13T04:05:09.080444Z",
     "iopub.status.busy": "2023-10-13T04:05:09.080134Z",
     "iopub.status.idle": "2023-10-13T04:20:07.426218Z",
     "shell.execute_reply": "2023-10-13T04:20:07.425555Z"
    },
    "papermill": {
     "duration": 898.352112,
     "end_time": "2023-10-13T04:20:07.427468",
     "exception": false,
     "start_time": "2023-10-13T04:05:09.075356",
     "status": "completed"
    },
    "tags": []
   },
   "outputs": [
    {
     "data": {
      "application/vnd.jupyter.widget-view+json": {
       "model_id": "1a4fde9d01024f32b6f5993cb8c4ade4",
       "version_major": 2,
       "version_minor": 0
      },
      "text/plain": [
       "Epochs completed:   0%|            0/200 [00:00]"
      ]
     },
     "metadata": {},
     "output_type": "display_data"
    },
    {
     "name": "stdout",
     "output_type": "stream",
     "text": [
      "CPU times: user 1h 27min 12s, sys: 1min 15s, total: 1h 28min 28s\n",
      "Wall time: 14min 58s\n"
     ]
    }
   ],
   "source": [
    "%%time\n",
    "# try also with default parameters for n_neighbors and min_dist\n",
    "\n",
    "cr_start()\n",
    "\n",
    "embedding = umap.UMAP(\n",
    "    n_neighbors=umap_n_neighbors,\n",
    "    min_dist=umap_min_dist,\n",
    "    n_components=umap_ncomponents, metric=umap_metric,\n",
    "    tqdm_kwds=tqdm_kwds,\n",
    "    random_state=umap_random_state,\n",
    ").fit(word_doc_matrix)\n",
    "\n",
    "runtime_umap = cr_getrt()"
   ]
  },
  {
   "cell_type": "code",
   "execution_count": 21,
   "id": "7a4a33e6",
   "metadata": {
    "execution": {
     "iopub.execute_input": "2023-10-13T04:20:07.441374Z",
     "iopub.status.busy": "2023-10-13T04:20:07.441115Z",
     "iopub.status.idle": "2023-10-13T04:20:07.444930Z",
     "shell.execute_reply": "2023-10-13T04:20:07.444373Z"
    },
    "papermill": {
     "duration": 0.013622,
     "end_time": "2023-10-13T04:20:07.446061",
     "exception": false,
     "start_time": "2023-10-13T04:20:07.432439",
     "status": "completed"
    },
    "tags": []
   },
   "outputs": [
    {
     "name": "stdout",
     "output_type": "stream",
     "text": [
      "898.3408296108246\n"
     ]
    }
   ],
   "source": [
    "print(runtime_umap)"
   ]
  },
  {
   "cell_type": "code",
   "execution_count": 22,
   "id": "1d589269",
   "metadata": {
    "execution": {
     "iopub.execute_input": "2023-10-13T04:20:07.454457Z",
     "iopub.status.busy": "2023-10-13T04:20:07.454293Z"
    },
    "papermill": {
     "duration": null,
     "end_time": null,
     "exception": false,
     "start_time": "2023-10-13T04:20:07.449939",
     "status": "running"
    },
    "tags": []
   },
   "outputs": [
    {
     "name": "stderr",
     "output_type": "stream",
     "text": [
      "/home/manuel/d3tect-tools/venv/lib/python3.9/site-packages/scipy/sparse/_index.py:146: SparseEfficiencyWarning: Changing the sparsity structure of a csr_matrix is expensive. lil_matrix is more efficient.\n",
      "  self._set_arrayXarray(i, j, x)\n"
     ]
    }
   ],
   "source": [
    "%%time\n",
    "\n",
    "cr_start()\n",
    "clusterable_embedding = embedding.transform(word_doc_matrix)\n",
    "runtime_umap_transform = cr_getrt()"
   ]
  },
  {
   "cell_type": "code",
   "execution_count": null,
   "id": "0e677689",
   "metadata": {
    "papermill": {
     "duration": null,
     "end_time": null,
     "exception": null,
     "start_time": null,
     "status": "pending"
    },
    "tags": []
   },
   "outputs": [],
   "source": [
    "print(runtime_umap_transform)"
   ]
  },
  {
   "cell_type": "code",
   "execution_count": null,
   "id": "ff546aa9",
   "metadata": {
    "papermill": {
     "duration": null,
     "end_time": null,
     "exception": null,
     "start_time": null,
     "status": "pending"
    },
    "tags": []
   },
   "outputs": [],
   "source": [
    "umap_embedding = pd.DataFrame(embedding.embedding_, columns=['x', 'y']) # (umap_t)\n",
    "umap_clusterable_embedding = pd.DataFrame(clusterable_embedding, columns=['x', 'y']) # (umap_t)\n",
    "\n",
    "umap_embedding['name'] = testset['name']\n",
    "umap_clusterable_embedding['name'] = testset['name']\n",
    "\n",
    "to_disk_results(umap_embedding, f'umap_embedding_{t_name}', subdir=f\"{cust_dir}\")\n",
    "to_disk_results(umap_clusterable_embedding, f'umap_clusterable_embedding_{t_name}', subdir=f\"{cust_dir}\")"
   ]
  },
  {
   "cell_type": "markdown",
   "id": "8c3f85e1",
   "metadata": {
    "papermill": {
     "duration": null,
     "end_time": null,
     "exception": null,
     "start_time": null,
     "status": "pending"
    },
    "tags": []
   },
   "source": [
    "https://hdbscan.readthedocs.io/en/latest/parameter_selection.html\n",
    "\n",
    "Since we have seen that min_samples clearly has a dramatic effect on clustering, the question becomes: how do we select this parameter? The simplest intuition for what min_samples does is provide a measure of how conservative you want you clustering to be. The larger the value of min_samples you provide, the more conservative the clustering – more points will be declared as noise, and clusters will be restricted to progressively more dense areas. We can see this in practice by leaving the min_cluster_size at 60, but reducing min_samples to 1."
   ]
  },
  {
   "cell_type": "code",
   "execution_count": null,
   "id": "207f401d",
   "metadata": {
    "papermill": {
     "duration": null,
     "end_time": null,
     "exception": null,
     "start_time": null,
     "status": "pending"
    },
    "tags": []
   },
   "outputs": [],
   "source": [
    "import hdbscan\n",
    "\n",
    "def clusterapply_hdbscan(hdbscan_min_samples, min_cluster_size, runner_name):\n",
    "    cr_start()\n",
    "    labels = hdbscan.HDBSCAN(\n",
    "        min_samples=hdbscan_min_samples,\n",
    "        min_cluster_size=min_cluster_size,\n",
    "    ).fit_predict(clusterable_embedding)\n",
    "    runtime_hdb = cr_getrt()\n",
    "    \n",
    "    stats = {'type': \"hdb\",\n",
    "             'testset': t_name,\n",
    "             'version': td_version,\n",
    "            }\n",
    "    \n",
    "    detail_stats = {'hdb_minclust': min_cluster_size,\n",
    "                    'hdb_minsamp': hdbscan_min_samples,\n",
    "                    'runtime': runtime_hdb,\n",
    "                    'tdf': f\"rt_vect: {runtime_vectorizer}, min_df: {tdidf_min_df}, max_df: {tdidf_max_df}, stopwords: {use_stopwords}, extended stopwords: {use_extended_stopwords}\",\n",
    "                    'umap': f\"{umap_metric}, rt_umap_tf: {runtime_umap_transform}, rt_umap: {runtime_umap}, ncomp: {umap_ncomponents}, rs: {umap_random_state}, min_dist: {umap_min_dist}, no_neigh: {umap_n_neighbors}\",\n",
    "                    #'gtr': grtr,\n",
    "                    #'gtr_rel': grtr_rt\n",
    "                   }\n",
    "    prediction = stats\n",
    "    prediction['name'] = runner_name\n",
    "    #prediction.update(max_fscore(my_results[[tag, 'clabel']].apply(tuple, axis=1).to_dict()))\n",
    "    #prediction.update({'tot_clust': total_clusters, 'tot_anom':no_anomalies, 'no_lab':missing_clabel, 'anom':identified_anom})\n",
    "    prediction.update(detail_stats)\n",
    "    res.append(prediction.copy())\n",
    "    display(pd.DataFrame.from_dict(res))\n",
    "    return labels\n",
    "\n",
    "res = []\n",
    "hdb_labels_results = pd.DataFrame()\n",
    "hdb_labels_results['name'] = testset['name'].copy()\n",
    "\n",
    "\n",
    "for cs in range(cs_min, cs_max, cs_int): #50, 500\n",
    "    for ss in range(ss_min, ss_max, ss_int): #50 500\n",
    "        runner_name = f'ss{ss}cs{cs}'\n",
    "        hdb_labels_results[runner_name] = clusterapply_hdbscan(ss, cs, runner_name)\n",
    "\n",
    "results = pd.DataFrame.from_dict(res)\n",
    "res = []\n"
   ]
  },
  {
   "cell_type": "code",
   "execution_count": null,
   "id": "63d03cc4",
   "metadata": {
    "papermill": {
     "duration": null,
     "end_time": null,
     "exception": null,
     "start_time": null,
     "status": "pending"
    },
    "tags": []
   },
   "outputs": [],
   "source": [
    "hdb_labels_results"
   ]
  },
  {
   "cell_type": "code",
   "execution_count": null,
   "id": "971a24af",
   "metadata": {
    "papermill": {
     "duration": null,
     "end_time": null,
     "exception": null,
     "start_time": null,
     "status": "pending"
    },
    "tags": []
   },
   "outputs": [],
   "source": [
    "print(\"saving results to disk\")\n",
    "try:\n",
    "    old_results = from_disk(f'results/{cust_dir}/hdb_results')\n",
    "    concat_results = pd.concat([old_results, results])\n",
    "    concat_results.drop_duplicates(inplace=True)\n",
    "    to_disk_results(concat_results, f'hdb_results', subdir=f\"{cust_dir}\")\n",
    "except FileNotFoundError:\n",
    "    to_disk_results(results, f'hdb_results', subdir=f\"{cust_dir}\")\n",
    "to_disk_results(hdb_labels_results, f'hdb_labels_results_{t_name}', subdir=f\"{cust_dir}\")"
   ]
  },
  {
   "cell_type": "code",
   "execution_count": null,
   "id": "1df02e76",
   "metadata": {
    "papermill": {
     "duration": null,
     "end_time": null,
     "exception": null,
     "start_time": null,
     "status": "pending"
    },
    "tags": []
   },
   "outputs": [],
   "source": [
    "\n",
    "umap_embedding['topics'] = testset['topics']\n",
    "umap_clusterable_embedding['topics'] = testset['topics']"
   ]
  },
  {
   "cell_type": "code",
   "execution_count": null,
   "id": "659287f9",
   "metadata": {
    "papermill": {
     "duration": null,
     "end_time": null,
     "exception": null,
     "start_time": null,
     "status": "pending"
    },
    "tags": []
   },
   "outputs": [],
   "source": [
    "import sklearn.cluster as cluster\n",
    "\n",
    "def clusterapply_kmeans(testset, clustersize, runner_name, opt_comment=\"\"):\n",
    "    # Perform k-means clustering\n",
    "    \n",
    "    kmeans = cluster.KMeans(n_clusters=clustersize, random_state=42)\n",
    "        \n",
    "    if('y' in testset.columns):\n",
    "        #print(\"assuming umap reduced testset here\")\n",
    "        testset = testset.copy()\n",
    "        dropping_not_connected = len(testset[testset['y'].isnull()])\n",
    "        testset = testset[testset['y'].notna()]\n",
    "        cr_start()\n",
    "        kmeans.fit(testset[['x', 'y']].to_numpy())\n",
    "        runtime_kmeans = cr_getrt()\n",
    "        opt_comment=\"-umapt\"\n",
    "    else:\n",
    "        dropping_not_connected = 0\n",
    "        cr_start()\n",
    "        kmeans.fit(word_doc_matrix)\n",
    "        runtime_kmeans = cr_getrt()\n",
    "\n",
    "    \n",
    "    stats = {'type': f\"kmeans{opt_comment}\",\n",
    "             'testset': t_name,\n",
    "             'version': td_version,\n",
    "             'size': clustersize\n",
    "            }\n",
    "    \n",
    "    detail_stats = {'tdf': f\"rt_vect: {runtime_vectorizer}, min_df: {tdidf_min_df}, max_df: {tdidf_max_df}, stopwords: {use_stopwords}, extended stopwords: {use_extended_stopwords}\",\n",
    "                'runtime': runtime_kmeans\n",
    "               }\n",
    "    \n",
    "    if('y' in testset.columns):\n",
    "        detail_stats['umap'] = f\"{umap_metric}, rt_umap_tf: {runtime_umap_transform}, rt_umap: {runtime_umap}, ncomp: {umap_ncomponents}, rs: {umap_random_state}, min_dist: {umap_min_dist}, no_neigh: {umap_n_neighbors}\", #umap not important here\n",
    "        stats['no_con'] = dropping_not_connected\n",
    "\n",
    "    prediction = stats\n",
    "    prediction['name'] = runner_name\n",
    "    #prediction.update(max_fscore(my_results[[tag, 'clabel']].apply(tuple, axis=1).to_dict()))\n",
    "    #prediction.update({'tot_clust': total_clusters, 'no_lab':missing_clabel})\n",
    "    prediction.update(detail_stats)\n",
    "    res.append(prediction.copy())\n",
    "        \n",
    "    display(pd.DataFrame.from_dict(res))\n",
    "    return kmeans.labels_\n",
    "    #testset.drop(['cluster_run'], axis=1)\n"
   ]
  },
  {
   "cell_type": "code",
   "execution_count": null,
   "id": "b6c8aedf",
   "metadata": {
    "papermill": {
     "duration": null,
     "end_time": null,
     "exception": null,
     "start_time": null,
     "status": "pending"
    },
    "scrolled": true,
    "tags": []
   },
   "outputs": [],
   "source": [
    "res = []\n",
    "\n",
    "kmeans_labels_results = pd.DataFrame()\n",
    "kmeans_labels_results['name'] = umap_embedding[umap_embedding['y'].notna()]['name'].copy()\n",
    "\n",
    "for i in range(min_cluster, max_cluster, clust_int): # 10, 60\n",
    "    runner_name = f'{i}'\n",
    "    kmeans_labels_results[runner_name] = clusterapply_kmeans(umap_embedding, i, runner_name)\n",
    "\n",
    "results = pd.DataFrame.from_dict(res)\n",
    "res = []\n",
    "\n",
    "#k_means_df[['x', 'y']].to_numpy(), \n",
    "#word_doc_matrix\n",
    "\n"
   ]
  },
  {
   "cell_type": "code",
   "execution_count": null,
   "id": "1e7fdac0",
   "metadata": {
    "papermill": {
     "duration": null,
     "end_time": null,
     "exception": null,
     "start_time": null,
     "status": "pending"
    },
    "tags": []
   },
   "outputs": [],
   "source": [
    "kmeans_labels_results"
   ]
  },
  {
   "cell_type": "code",
   "execution_count": null,
   "id": "97ebd743",
   "metadata": {
    "papermill": {
     "duration": null,
     "end_time": null,
     "exception": null,
     "start_time": null,
     "status": "pending"
    },
    "tags": []
   },
   "outputs": [],
   "source": [
    "print(\"saving results to disk\")\n",
    "try:\n",
    "    old_results = from_disk(f'results/{cust_dir}/kmeans-umap_results')\n",
    "    concat_results = pd.concat([old_results, results])\n",
    "    concat_results.drop_duplicates(inplace=True)\n",
    "    to_disk_results(concat_results, f'kmeans-umap_results', subdir=f\"{cust_dir}\")\n",
    "except FileNotFoundError:\n",
    "    to_disk_results(results, f'kmeans-umap_results', subdir=f\"{cust_dir}\")\n",
    "    \n",
    "to_disk_results(kmeans_labels_results, f'kmeans-umap_labels_results_{t_name}', subdir=f\"{cust_dir}\")\n"
   ]
  },
  {
   "cell_type": "code",
   "execution_count": null,
   "id": "ed45e80c",
   "metadata": {
    "papermill": {
     "duration": null,
     "end_time": null,
     "exception": null,
     "start_time": null,
     "status": "pending"
    },
    "scrolled": true,
    "tags": []
   },
   "outputs": [],
   "source": [
    "res = []\n",
    "\n",
    "kmeans_labels_results = pd.DataFrame()\n",
    "kmeans_labels_results['name'] = testset['name'].copy()\n",
    "\n",
    "\n",
    "for i in range(min_cluster, max_cluster, clust_int): # 10, 60\n",
    "    runner_name = f'{i}'\n",
    "    kmeans_labels_results[runner_name] = clusterapply_kmeans(testset, i, runner_name)\n",
    "\n",
    "results = pd.DataFrame.from_dict(res)\n",
    "res = []\n",
    "\n",
    "#k_means_df[['x', 'y']].to_numpy(), \n",
    "#word_doc_matrix"
   ]
  },
  {
   "cell_type": "code",
   "execution_count": null,
   "id": "71e632ca",
   "metadata": {
    "papermill": {
     "duration": null,
     "end_time": null,
     "exception": null,
     "start_time": null,
     "status": "pending"
    },
    "tags": []
   },
   "outputs": [],
   "source": [
    "kmeans_labels_results"
   ]
  },
  {
   "cell_type": "code",
   "execution_count": null,
   "id": "162606e6",
   "metadata": {
    "papermill": {
     "duration": null,
     "end_time": null,
     "exception": null,
     "start_time": null,
     "status": "pending"
    },
    "tags": []
   },
   "outputs": [],
   "source": [
    "print(\"saving results to disk\")\n",
    "\n",
    "try:\n",
    "    old_results = from_disk(f'results/{cust_dir}/kmeans_results')\n",
    "    concat_results = pd.concat([old_results, results])\n",
    "    concat_results.drop_duplicates(inplace=True)\n",
    "    to_disk_results(concat_results, f'kmeans_results', subdir=f\"{cust_dir}\")\n",
    "except FileNotFoundError:\n",
    "    to_disk_results(results, f'kmeans_results', subdir=f\"{cust_dir}\")\n",
    "    \n",
    "to_disk_results(kmeans_labels_results, f'kmeans_labels_results_{t_name}', subdir=f\"{cust_dir}\")\n"
   ]
  },
  {
   "cell_type": "code",
   "execution_count": null,
   "id": "c791c092",
   "metadata": {
    "papermill": {
     "duration": null,
     "end_time": null,
     "exception": null,
     "start_time": null,
     "status": "pending"
    },
    "tags": []
   },
   "outputs": [],
   "source": []
  }
 ],
 "metadata": {
  "celltoolbar": "Tags",
  "kernelspec": {
   "display_name": "Python 3 (ipykernel)",
   "language": "python",
   "name": "python3"
  },
  "language_info": {
   "codemirror_mode": {
    "name": "ipython",
    "version": 3
   },
   "file_extension": ".py",
   "mimetype": "text/x-python",
   "name": "python",
   "nbconvert_exporter": "python",
   "pygments_lexer": "ipython3",
   "version": "3.9.2"
  },
  "papermill": {
   "default_parameters": {},
   "duration": null,
   "end_time": null,
   "environment_variables": {},
   "exception": null,
   "input_path": "3_UMAP_CLUSTER_RUNNER.ipynb",
   "output_path": "ar3/output-notebook-t2.3.1s-t2.3.2+t2.3.6+t2.3.3.ipynb",
   "parameters": {
    "clust_int": 3,
    "cs_int": 50,
    "cs_max": 500,
    "cs_min": 50,
    "cust_dir": "ar3/",
    "max_cluster": 50,
    "merge_list": [
     "t2.3.2",
     "t2.3.6",
     "t2.3.3"
    ],
    "min_cluster": 10,
    "ss_int": 50,
    "ss_max": 500,
    "ss_min": 50,
    "t_name": "t2.3.1s",
    "tdidf_max_df": 1,
    "tdidf_min_df": 4,
    "umap_metric": "hellinger",
    "umap_min_dist": 0,
    "umap_n_neighbors": 30,
    "umap_ncomponents": 2,
    "umap_random_state": 42,
    "use_extended_stopwords": false,
    "use_stopwords": true,
    "use_tfidfvectorizer": true
   },
   "start_time": "2023-10-13T04:04:35.396932",
   "version": "2.4.0"
  }
 },
 "nbformat": 4,
 "nbformat_minor": 5
}
