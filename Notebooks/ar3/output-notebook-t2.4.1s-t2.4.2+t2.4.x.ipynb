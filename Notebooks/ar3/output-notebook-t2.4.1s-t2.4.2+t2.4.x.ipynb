{
 "cells": [
  {
   "cell_type": "markdown",
   "id": "cd9dcb01",
   "metadata": {
    "tags": [
     "papermill-error-cell-tag"
    ]
   },
   "source": [
    "<span style=\"color:red; font-family:Helvetica Neue, Helvetica, Arial, sans-serif; font-size:2em;\">An Exception was encountered at '<a href=\"#papermill-error-cell\">In [8]</a>'.</span>"
   ]
  },
  {
   "cell_type": "code",
   "execution_count": 1,
   "id": "8fee1122",
   "metadata": {
    "execution": {
     "iopub.execute_input": "2023-10-11T19:30:38.544283Z",
     "iopub.status.busy": "2023-10-11T19:30:38.544028Z",
     "iopub.status.idle": "2023-10-11T19:30:39.374611Z",
     "shell.execute_reply": "2023-10-11T19:30:39.373990Z"
    },
    "papermill": {
     "duration": 0.838552,
     "end_time": "2023-10-11T19:30:39.376914",
     "exception": false,
     "start_time": "2023-10-11T19:30:38.538362",
     "status": "completed"
    },
    "tags": []
   },
   "outputs": [],
   "source": [
    "# prepare data\n",
    "import pandas as pd\n",
    "import numpy as np\n",
    "import matplotlib.pyplot as plt\n",
    "import seaborn as sns\n",
    "import os, json\n",
    "import glob\n",
    "import operator\n",
    "from IPython.display import display, HTML"
   ]
  },
  {
   "cell_type": "code",
   "execution_count": 2,
   "id": "35fce104",
   "metadata": {
    "execution": {
     "iopub.execute_input": "2023-10-11T19:30:39.385543Z",
     "iopub.status.busy": "2023-10-11T19:30:39.385075Z",
     "iopub.status.idle": "2023-10-11T19:30:39.627871Z",
     "shell.execute_reply": "2023-10-11T19:30:39.627175Z"
    },
    "papermill": {
     "duration": 0.248073,
     "end_time": "2023-10-11T19:30:39.629516",
     "exception": false,
     "start_time": "2023-10-11T19:30:39.381443",
     "status": "completed"
    },
    "tags": []
   },
   "outputs": [],
   "source": [
    "%load_ext autoreload\n",
    "%autoreload 1\n",
    "\n",
    "from shared_globals_functions import *\n",
    "%aimport shared_globals_functions"
   ]
  },
  {
   "cell_type": "code",
   "execution_count": 3,
   "id": "2eb27b81",
   "metadata": {
    "execution": {
     "iopub.execute_input": "2023-10-11T19:30:39.638088Z",
     "iopub.status.busy": "2023-10-11T19:30:39.637889Z",
     "iopub.status.idle": "2023-10-11T19:30:39.644215Z",
     "shell.execute_reply": "2023-10-11T19:30:39.643596Z"
    },
    "papermill": {
     "duration": 0.011644,
     "end_time": "2023-10-11T19:30:39.645234",
     "exception": false,
     "start_time": "2023-10-11T19:30:39.633590",
     "status": "completed"
    },
    "tags": [
     "parameters"
    ]
   },
   "outputs": [],
   "source": [
    "t_name='t1'\n",
    "merge_list=['t1.1', 't1.2', 't1.3', 't1.4']\n",
    "\n",
    "cust_dir = 'test'\n",
    "\n",
    "tdidf_max_df=1.0 # defaults to 1.0 (float), can be an int too\n",
    "tdidf_min_df=4\n",
    "use_tfidfvectorizer = True\n",
    "use_stopwords = True\n",
    "use_extended_stopwords = False\n",
    "\n",
    "umap_metric='hellinger'\n",
    "umap_ncomponents=2\n",
    "umap_random_state=42\n",
    "umap_min_dist=0 #0.1\n",
    "umap_n_neighbors=30 #10, 30\n",
    "\n",
    "min_cluster=10\n",
    "max_cluster=30\n",
    "clust_int=3\n",
    "\n",
    "ss_min = 50\n",
    "ss_max = 500\n",
    "ss_int = 50\n",
    "cs_min = 50\n",
    "cs_max = 500\n",
    "cs_int = 50\n",
    "\n",
    "#tf-idf vectorizer\n",
    "#max_df=0.3\n",
    "#min_df=\n",
    "\n",
    "#kmeans\n",
    "#n_clusters\n",
    "#n_init\n",
    "#max_iter"
   ]
  },
  {
   "cell_type": "code",
   "execution_count": 4,
   "id": "3ace9864",
   "metadata": {
    "execution": {
     "iopub.execute_input": "2023-10-11T19:30:39.651957Z",
     "iopub.status.busy": "2023-10-11T19:30:39.651783Z",
     "iopub.status.idle": "2023-10-11T19:30:39.655485Z",
     "shell.execute_reply": "2023-10-11T19:30:39.654856Z"
    },
    "papermill": {
     "duration": 0.008514,
     "end_time": "2023-10-11T19:30:39.656774",
     "exception": false,
     "start_time": "2023-10-11T19:30:39.648260",
     "status": "completed"
    },
    "tags": [
     "injected-parameters"
    ]
   },
   "outputs": [],
   "source": [
    "# Parameters\n",
    "cust_dir = \"ar3/\"\n",
    "use_tfidfvectorizer = True\n",
    "tdidf_max_df = 1.0\n",
    "tdidf_min_df = 4\n",
    "use_stopwords = True\n",
    "use_extended_stopwords = False\n",
    "umap_metric = \"hellinger\"\n",
    "umap_ncomponents = 2\n",
    "umap_random_state = 42\n",
    "umap_min_dist = 0\n",
    "umap_n_neighbors = 30\n",
    "min_cluster = 10\n",
    "max_cluster = 50\n",
    "clust_int = 3\n",
    "ss_min = 50\n",
    "ss_max = 500\n",
    "ss_int = 50\n",
    "cs_min = 50\n",
    "cs_max = 500\n",
    "cs_int = 50\n",
    "t_name = \"t2.4.1s\"\n",
    "merge_list = [\"t2.4.2\", \"t2.4.x\"]\n"
   ]
  },
  {
   "cell_type": "code",
   "execution_count": 5,
   "id": "65853999",
   "metadata": {
    "execution": {
     "iopub.execute_input": "2023-10-11T19:30:39.664098Z",
     "iopub.status.busy": "2023-10-11T19:30:39.663945Z",
     "iopub.status.idle": "2023-10-11T19:30:39.745255Z",
     "shell.execute_reply": "2023-10-11T19:30:39.744722Z"
    },
    "papermill": {
     "duration": 0.086775,
     "end_time": "2023-10-11T19:30:39.746752",
     "exception": false,
     "start_time": "2023-10-11T19:30:39.659977",
     "status": "completed"
    },
    "tags": []
   },
   "outputs": [
    {
     "name": "stdout",
     "output_type": "stream",
     "text": [
      "reading /home/manuel/d3tect-tools/Notebooks/raw_testdata_v1/t2.4.1s.pkl\n"
     ]
    }
   ],
   "source": [
    "testset = from_disk(t_name)"
   ]
  },
  {
   "cell_type": "code",
   "execution_count": 6,
   "id": "2a25eb77",
   "metadata": {
    "execution": {
     "iopub.execute_input": "2023-10-11T19:30:39.755527Z",
     "iopub.status.busy": "2023-10-11T19:30:39.755263Z",
     "iopub.status.idle": "2023-10-11T19:30:39.866911Z",
     "shell.execute_reply": "2023-10-11T19:30:39.866313Z"
    },
    "papermill": {
     "duration": 0.117293,
     "end_time": "2023-10-11T19:30:39.868299",
     "exception": false,
     "start_time": "2023-10-11T19:30:39.751006",
     "status": "completed"
    },
    "tags": []
   },
   "outputs": [
    {
     "data": {
      "text/plain": [
       "217922"
      ]
     },
     "execution_count": 6,
     "metadata": {},
     "output_type": "execute_result"
    }
   ],
   "source": [
    "len(testset[testset['topics'].str.len() > 0])"
   ]
  },
  {
   "cell_type": "code",
   "execution_count": 7,
   "id": "bab9533a",
   "metadata": {
    "execution": {
     "iopub.execute_input": "2023-10-11T19:30:39.875983Z",
     "iopub.status.busy": "2023-10-11T19:30:39.875815Z",
     "iopub.status.idle": "2023-10-11T19:30:39.882273Z",
     "shell.execute_reply": "2023-10-11T19:30:39.881598Z"
    },
    "papermill": {
     "duration": 0.011797,
     "end_time": "2023-10-11T19:30:39.883526",
     "exception": false,
     "start_time": "2023-10-11T19:30:39.871729",
     "status": "completed"
    },
    "tags": []
   },
   "outputs": [
    {
     "name": "stdout",
     "output_type": "stream",
     "text": [
      "t2.4.1s+2.4.2+2.4.x\n"
     ]
    }
   ],
   "source": [
    "if len(merge_list)>0:\n",
    "    t_name = f'{t_name}+{\"+\".join([re.sub(r\"t\", \"\", tid) for tid in merge_list])}'\n",
    "    print(t_name)"
   ]
  },
  {
   "cell_type": "markdown",
   "id": "d8f150b3",
   "metadata": {
    "tags": [
     "papermill-error-cell-tag"
    ]
   },
   "source": [
    "<span id=\"papermill-error-cell\" style=\"color:red; font-family:Helvetica Neue, Helvetica, Arial, sans-serif; font-size:2em;\">Execution using papermill encountered an exception here and stopped:</span>"
   ]
  },
  {
   "cell_type": "code",
   "execution_count": 8,
   "id": "25566136",
   "metadata": {
    "execution": {
     "iopub.execute_input": "2023-10-11T19:30:39.892681Z",
     "iopub.status.busy": "2023-10-11T19:30:39.892328Z",
     "iopub.status.idle": "2023-10-11T19:30:40.726328Z",
     "shell.execute_reply": "2023-10-11T19:30:40.725360Z"
    },
    "papermill": {
     "duration": 0.839779,
     "end_time": "2023-10-11T19:30:40.727674",
     "exception": true,
     "start_time": "2023-10-11T19:30:39.887895",
     "status": "failed"
    },
    "scrolled": true,
    "tags": []
   },
   "outputs": [
    {
     "name": "stdout",
     "output_type": "stream",
     "text": [
      "reading /home/manuel/d3tect-tools/Notebooks/raw_testdata_v1/t2.4.2.pkl\n"
     ]
    },
    {
     "name": "stdout",
     "output_type": "stream",
     "text": [
      "reading /home/manuel/d3tect-tools/Notebooks/raw_testdata_v1/t2.4.x.pkl\n"
     ]
    },
    {
     "ename": "FileNotFoundError",
     "evalue": "[Errno 2] No such file or directory: '/home/manuel/d3tect-tools/Notebooks/raw_testdata_v1/t2.4.x.pkl'",
     "output_type": "error",
     "traceback": [
      "\u001b[0;31m---------------------------------------------------------------------------\u001b[0m",
      "\u001b[0;31mFileNotFoundError\u001b[0m                         Traceback (most recent call last)",
      "Input \u001b[0;32mIn [8]\u001b[0m, in \u001b[0;36m<cell line: 1>\u001b[0;34m()\u001b[0m\n\u001b[0;32m----> 1\u001b[0m testset_merge \u001b[38;5;241m=\u001b[39m \u001b[43mcreate_merge\u001b[49m\u001b[43m(\u001b[49m\u001b[43mtestset\u001b[49m\u001b[43m,\u001b[49m\u001b[43m \u001b[49m\u001b[43mmerge_list\u001b[49m\u001b[43m,\u001b[49m\u001b[43m \u001b[49m\u001b[43mmerge_to_one\u001b[49m\u001b[38;5;241;43m=\u001b[39;49m\u001b[38;5;28;43;01mTrue\u001b[39;49;00m\u001b[43m)\u001b[49m\n",
      "File \u001b[0;32m~/d3tect-tools/Notebooks/shared_globals_functions.py:178\u001b[0m, in \u001b[0;36mcreate_merge\u001b[0;34m(testset, merge_list, merge_to_one)\u001b[0m\n\u001b[1;32m    176\u001b[0m testset_merge \u001b[38;5;241m=\u001b[39m testset\n\u001b[1;32m    177\u001b[0m \u001b[38;5;28;01mfor\u001b[39;00m merge \u001b[38;5;129;01min\u001b[39;00m merge_list:\n\u001b[0;32m--> 178\u001b[0m     t \u001b[38;5;241m=\u001b[39m \u001b[43mfrom_disk\u001b[49m\u001b[43m(\u001b[49m\u001b[43mmerge\u001b[49m\u001b[43m)\u001b[49m\n\u001b[1;32m    179\u001b[0m     i\u001b[38;5;241m+\u001b[39m\u001b[38;5;241m=\u001b[39m\u001b[38;5;241m1\u001b[39m\n\u001b[1;32m    180\u001b[0m     testset_merge \u001b[38;5;241m=\u001b[39m testset_merge\u001b[38;5;241m.\u001b[39mmerge(t, on\u001b[38;5;241m=\u001b[39m[\u001b[38;5;124m'\u001b[39m\u001b[38;5;124mname\u001b[39m\u001b[38;5;124m'\u001b[39m], suffixes\u001b[38;5;241m=\u001b[39m(\u001b[38;5;124m'\u001b[39m\u001b[38;5;124m'\u001b[39m, \u001b[38;5;124mf\u001b[39m\u001b[38;5;124m'\u001b[39m\u001b[38;5;124m_\u001b[39m\u001b[38;5;132;01m{\u001b[39;00mi\u001b[38;5;132;01m}\u001b[39;00m\u001b[38;5;124m'\u001b[39m), how\u001b[38;5;241m=\u001b[39m\u001b[38;5;124m'\u001b[39m\u001b[38;5;124mleft\u001b[39m\u001b[38;5;124m'\u001b[39m)\n",
      "File \u001b[0;32m~/d3tect-tools/Notebooks/shared_globals_functions.py:46\u001b[0m, in \u001b[0;36mfrom_disk\u001b[0;34m(name)\u001b[0m\n\u001b[1;32m     44\u001b[0m file\u001b[38;5;241m=\u001b[39m\u001b[38;5;124mf\u001b[39m\u001b[38;5;124m'\u001b[39m\u001b[38;5;132;01m{\u001b[39;00mdirectory\u001b[38;5;132;01m}\u001b[39;00m\u001b[38;5;124m/\u001b[39m\u001b[38;5;132;01m{\u001b[39;00mname\u001b[38;5;132;01m}\u001b[39;00m\u001b[38;5;124m.pkl\u001b[39m\u001b[38;5;124m'\u001b[39m\n\u001b[1;32m     45\u001b[0m \u001b[38;5;28mprint\u001b[39m(\u001b[38;5;124mf\u001b[39m\u001b[38;5;124m'\u001b[39m\u001b[38;5;124mreading \u001b[39m\u001b[38;5;132;01m{\u001b[39;00mfile\u001b[38;5;132;01m}\u001b[39;00m\u001b[38;5;124m'\u001b[39m)\n\u001b[0;32m---> 46\u001b[0m \u001b[38;5;28;01mreturn\u001b[39;00m \u001b[43mpd\u001b[49m\u001b[38;5;241;43m.\u001b[39;49m\u001b[43mread_pickle\u001b[49m\u001b[43m(\u001b[49m\u001b[38;5;124;43mf\u001b[39;49m\u001b[38;5;124;43m'\u001b[39;49m\u001b[38;5;132;43;01m{\u001b[39;49;00m\u001b[43mfile\u001b[49m\u001b[38;5;132;43;01m}\u001b[39;49;00m\u001b[38;5;124;43m'\u001b[39;49m\u001b[43m)\u001b[49m\n",
      "File \u001b[0;32m~/d3tect-tools/venv/lib/python3.9/site-packages/pandas/io/pickle.py:187\u001b[0m, in \u001b[0;36mread_pickle\u001b[0;34m(filepath_or_buffer, compression, storage_options)\u001b[0m\n\u001b[1;32m    124\u001b[0m \u001b[38;5;250m\u001b[39m\u001b[38;5;124;03m\"\"\"\u001b[39;00m\n\u001b[1;32m    125\u001b[0m \u001b[38;5;124;03mLoad pickled pandas object (or any object) from file.\u001b[39;00m\n\u001b[1;32m    126\u001b[0m \n\u001b[0;32m   (...)\u001b[0m\n\u001b[1;32m    184\u001b[0m \u001b[38;5;124;03m4    4    9\u001b[39;00m\n\u001b[1;32m    185\u001b[0m \u001b[38;5;124;03m\"\"\"\u001b[39;00m  \u001b[38;5;66;03m# noqa: E501\u001b[39;00m\n\u001b[1;32m    186\u001b[0m excs_to_catch \u001b[38;5;241m=\u001b[39m (\u001b[38;5;167;01mAttributeError\u001b[39;00m, \u001b[38;5;167;01mImportError\u001b[39;00m, \u001b[38;5;167;01mModuleNotFoundError\u001b[39;00m, \u001b[38;5;167;01mTypeError\u001b[39;00m)\n\u001b[0;32m--> 187\u001b[0m \u001b[38;5;28;01mwith\u001b[39;00m \u001b[43mget_handle\u001b[49m\u001b[43m(\u001b[49m\n\u001b[1;32m    188\u001b[0m \u001b[43m    \u001b[49m\u001b[43mfilepath_or_buffer\u001b[49m\u001b[43m,\u001b[49m\n\u001b[1;32m    189\u001b[0m \u001b[43m    \u001b[49m\u001b[38;5;124;43m\"\u001b[39;49m\u001b[38;5;124;43mrb\u001b[39;49m\u001b[38;5;124;43m\"\u001b[39;49m\u001b[43m,\u001b[49m\n\u001b[1;32m    190\u001b[0m \u001b[43m    \u001b[49m\u001b[43mcompression\u001b[49m\u001b[38;5;241;43m=\u001b[39;49m\u001b[43mcompression\u001b[49m\u001b[43m,\u001b[49m\n\u001b[1;32m    191\u001b[0m \u001b[43m    \u001b[49m\u001b[43mis_text\u001b[49m\u001b[38;5;241;43m=\u001b[39;49m\u001b[38;5;28;43;01mFalse\u001b[39;49;00m\u001b[43m,\u001b[49m\n\u001b[1;32m    192\u001b[0m \u001b[43m    \u001b[49m\u001b[43mstorage_options\u001b[49m\u001b[38;5;241;43m=\u001b[39;49m\u001b[43mstorage_options\u001b[49m\u001b[43m,\u001b[49m\n\u001b[1;32m    193\u001b[0m \u001b[43m\u001b[49m\u001b[43m)\u001b[49m \u001b[38;5;28;01mas\u001b[39;00m handles:\n\u001b[1;32m    194\u001b[0m \n\u001b[1;32m    195\u001b[0m     \u001b[38;5;66;03m# 1) try standard library Pickle\u001b[39;00m\n\u001b[1;32m    196\u001b[0m     \u001b[38;5;66;03m# 2) try pickle_compat (older pandas version) to handle subclass changes\u001b[39;00m\n\u001b[1;32m    197\u001b[0m     \u001b[38;5;66;03m# 3) try pickle_compat with latin-1 encoding upon a UnicodeDecodeError\u001b[39;00m\n\u001b[1;32m    199\u001b[0m     \u001b[38;5;28;01mtry\u001b[39;00m:\n\u001b[1;32m    200\u001b[0m         \u001b[38;5;66;03m# TypeError for Cython complaints about object.__new__ vs Tick.__new__\u001b[39;00m\n\u001b[1;32m    201\u001b[0m         \u001b[38;5;28;01mtry\u001b[39;00m:\n",
      "File \u001b[0;32m~/d3tect-tools/venv/lib/python3.9/site-packages/pandas/io/common.py:798\u001b[0m, in \u001b[0;36mget_handle\u001b[0;34m(path_or_buf, mode, encoding, compression, memory_map, is_text, errors, storage_options)\u001b[0m\n\u001b[1;32m    789\u001b[0m         handle \u001b[38;5;241m=\u001b[39m \u001b[38;5;28mopen\u001b[39m(\n\u001b[1;32m    790\u001b[0m             handle,\n\u001b[1;32m    791\u001b[0m             ioargs\u001b[38;5;241m.\u001b[39mmode,\n\u001b[0;32m   (...)\u001b[0m\n\u001b[1;32m    794\u001b[0m             newline\u001b[38;5;241m=\u001b[39m\u001b[38;5;124m\"\u001b[39m\u001b[38;5;124m\"\u001b[39m,\n\u001b[1;32m    795\u001b[0m         )\n\u001b[1;32m    796\u001b[0m     \u001b[38;5;28;01melse\u001b[39;00m:\n\u001b[1;32m    797\u001b[0m         \u001b[38;5;66;03m# Binary mode\u001b[39;00m\n\u001b[0;32m--> 798\u001b[0m         handle \u001b[38;5;241m=\u001b[39m \u001b[38;5;28;43mopen\u001b[39;49m\u001b[43m(\u001b[49m\u001b[43mhandle\u001b[49m\u001b[43m,\u001b[49m\u001b[43m \u001b[49m\u001b[43mioargs\u001b[49m\u001b[38;5;241;43m.\u001b[39;49m\u001b[43mmode\u001b[49m\u001b[43m)\u001b[49m\n\u001b[1;32m    799\u001b[0m     handles\u001b[38;5;241m.\u001b[39mappend(handle)\n\u001b[1;32m    801\u001b[0m \u001b[38;5;66;03m# Convert BytesIO or file objects passed with an encoding\u001b[39;00m\n",
      "\u001b[0;31mFileNotFoundError\u001b[0m: [Errno 2] No such file or directory: '/home/manuel/d3tect-tools/Notebooks/raw_testdata_v1/t2.4.x.pkl'"
     ]
    }
   ],
   "source": [
    "testset_merge = create_merge(testset, merge_list, merge_to_one=True)"
   ]
  },
  {
   "cell_type": "code",
   "execution_count": null,
   "id": "b155106a",
   "metadata": {
    "papermill": {
     "duration": null,
     "end_time": null,
     "exception": null,
     "start_time": null,
     "status": "pending"
    },
    "tags": []
   },
   "outputs": [],
   "source": [
    "len(testset_merge[testset_merge['topics'].str.len() > 0])"
   ]
  },
  {
   "cell_type": "code",
   "execution_count": null,
   "id": "da778151",
   "metadata": {
    "papermill": {
     "duration": null,
     "end_time": null,
     "exception": null,
     "start_time": null,
     "status": "pending"
    },
    "tags": []
   },
   "outputs": [],
   "source": [
    "df = testset_merge.merge(testset, on=['name'], how='left', indicator=True)"
   ]
  },
  {
   "cell_type": "code",
   "execution_count": null,
   "id": "d83ddb08",
   "metadata": {
    "papermill": {
     "duration": null,
     "end_time": null,
     "exception": null,
     "start_time": null,
     "status": "pending"
    },
    "scrolled": true,
    "tags": []
   },
   "outputs": [],
   "source": [
    "df[df['_merge']!='both']"
   ]
  },
  {
   "cell_type": "code",
   "execution_count": null,
   "id": "ae26c1f2",
   "metadata": {
    "papermill": {
     "duration": null,
     "end_time": null,
     "exception": null,
     "start_time": null,
     "status": "pending"
    },
    "tags": []
   },
   "outputs": [],
   "source": [
    "df[df['topics_x'].str.len() == 0]"
   ]
  },
  {
   "cell_type": "code",
   "execution_count": null,
   "id": "3e120429",
   "metadata": {
    "papermill": {
     "duration": null,
     "end_time": null,
     "exception": null,
     "start_time": null,
     "status": "pending"
    },
    "tags": []
   },
   "outputs": [],
   "source": [
    "if len(merge_list)>0:\n",
    "    testset = testset_merge"
   ]
  },
  {
   "cell_type": "code",
   "execution_count": null,
   "id": "3106a1eb",
   "metadata": {
    "papermill": {
     "duration": null,
     "end_time": null,
     "exception": null,
     "start_time": null,
     "status": "pending"
    },
    "tags": []
   },
   "outputs": [],
   "source": [
    "import pandas as pd\n",
    "import umap\n",
    "from sklearn.feature_extraction.text import CountVectorizer, TfidfVectorizer"
   ]
  },
  {
   "cell_type": "code",
   "execution_count": null,
   "id": "75eaf1e8",
   "metadata": {
    "papermill": {
     "duration": null,
     "end_time": null,
     "exception": null,
     "start_time": null,
     "status": "pending"
    },
    "tags": []
   },
   "outputs": [],
   "source": [
    "orig_testset = testset"
   ]
  },
  {
   "cell_type": "code",
   "execution_count": null,
   "id": "2820a13c",
   "metadata": {
    "papermill": {
     "duration": null,
     "end_time": null,
     "exception": null,
     "start_time": null,
     "status": "pending"
    },
    "tags": []
   },
   "outputs": [],
   "source": [
    "my_stop_words=None\n",
    "if use_stopwords:\n",
    "    my_stop_words='english'\n",
    "    if use_extended_stopwords:\n",
    "        print(\"todo\")\n",
    "\n",
    "if use_tfidfvectorizer:\n",
    "    vectorizer = TfidfVectorizer(min_df=tdidf_min_df, max_df=tdidf_max_df, stop_words=my_stop_words)\n",
    "else:\n",
    "    vectorizer = CountVectorizer(min_df=tdidf_min_df, max_df=tdidf_max_df, stop_words=my_stop_words)\n",
    "\n",
    "print(f\"total repos {len(testset[testset['topics'].str.len() > 0])}\")\n",
    "testset = testset[testset['topics'].str.len() > 0].reset_index()\n",
    "\n",
    "if isinstance(testset['topics'][0], list):\n",
    "    testset['topics'] = testset['topics'].apply(lambda x: ' '.join(x))\n",
    "    print(\"topics came as list ... consider joining it before\")\n",
    "\n",
    "cr_start()\n",
    "word_doc_matrix = vectorizer.fit_transform(testset['topics'])\n",
    "runtime_vectorizer = cr_getrt()"
   ]
  },
  {
   "cell_type": "code",
   "execution_count": null,
   "id": "458827b2",
   "metadata": {
    "papermill": {
     "duration": null,
     "end_time": null,
     "exception": null,
     "start_time": null,
     "status": "pending"
    },
    "tags": []
   },
   "outputs": [],
   "source": [
    "runtime_vectorizer"
   ]
  },
  {
   "cell_type": "code",
   "execution_count": null,
   "id": "d916f58f",
   "metadata": {
    "papermill": {
     "duration": null,
     "end_time": null,
     "exception": null,
     "start_time": null,
     "status": "pending"
    },
    "tags": []
   },
   "outputs": [],
   "source": [
    "word_doc_matrix"
   ]
  },
  {
   "cell_type": "code",
   "execution_count": null,
   "id": "e32433c8",
   "metadata": {
    "papermill": {
     "duration": null,
     "end_time": null,
     "exception": null,
     "start_time": null,
     "status": "pending"
    },
    "tags": []
   },
   "outputs": [],
   "source": [
    "class ProgressWriter:\n",
    "    def write(self, text):\n",
    "        print(\"custom progress\", n, total)\n",
    "\n",
    "    def flush(self):\n",
    "        pass\n",
    "\n",
    "#tqdm_kwds = {\"file\": \"progress_writer\", \"disable\": False }\n",
    "tqdm_kwds = {\"disable\": False }   \n"
   ]
  },
  {
   "cell_type": "code",
   "execution_count": null,
   "id": "32b7be2d",
   "metadata": {
    "papermill": {
     "duration": null,
     "end_time": null,
     "exception": null,
     "start_time": null,
     "status": "pending"
    },
    "tags": []
   },
   "outputs": [],
   "source": [
    "%%time\n",
    "# try also with default parameters for n_neighbors and min_dist\n",
    "\n",
    "cr_start()\n",
    "\n",
    "embedding = umap.UMAP(\n",
    "    n_neighbors=umap_n_neighbors,\n",
    "    min_dist=umap_min_dist,\n",
    "    n_components=umap_ncomponents, metric=umap_metric,\n",
    "    tqdm_kwds=tqdm_kwds,\n",
    "    random_state=umap_random_state,\n",
    ").fit(word_doc_matrix)\n",
    "\n",
    "runtime_umap = cr_getrt()"
   ]
  },
  {
   "cell_type": "code",
   "execution_count": null,
   "id": "7a4a33e6",
   "metadata": {
    "papermill": {
     "duration": null,
     "end_time": null,
     "exception": null,
     "start_time": null,
     "status": "pending"
    },
    "tags": []
   },
   "outputs": [],
   "source": [
    "print(runtime_umap)"
   ]
  },
  {
   "cell_type": "code",
   "execution_count": null,
   "id": "1d589269",
   "metadata": {
    "papermill": {
     "duration": null,
     "end_time": null,
     "exception": null,
     "start_time": null,
     "status": "pending"
    },
    "tags": []
   },
   "outputs": [],
   "source": [
    "%%time\n",
    "\n",
    "cr_start()\n",
    "clusterable_embedding = embedding.transform(word_doc_matrix)\n",
    "runtime_umap_transform = cr_getrt()"
   ]
  },
  {
   "cell_type": "code",
   "execution_count": null,
   "id": "0e677689",
   "metadata": {
    "papermill": {
     "duration": null,
     "end_time": null,
     "exception": null,
     "start_time": null,
     "status": "pending"
    },
    "tags": []
   },
   "outputs": [],
   "source": [
    "print(runtime_umap_transform)"
   ]
  },
  {
   "cell_type": "code",
   "execution_count": null,
   "id": "ff546aa9",
   "metadata": {
    "papermill": {
     "duration": null,
     "end_time": null,
     "exception": null,
     "start_time": null,
     "status": "pending"
    },
    "tags": []
   },
   "outputs": [],
   "source": [
    "umap_embedding = pd.DataFrame(embedding.embedding_, columns=['x', 'y']) # (umap_t)\n",
    "umap_clusterable_embedding = pd.DataFrame(clusterable_embedding, columns=['x', 'y']) # (umap_t)\n",
    "\n",
    "umap_embedding['name'] = testset['name']\n",
    "umap_clusterable_embedding['name'] = testset['name']\n",
    "\n",
    "to_disk_results(umap_embedding, f'umap_embedding_{t_name}', subdir=f\"{cust_dir}\")\n",
    "to_disk_results(umap_clusterable_embedding, f'umap_clusterable_embedding_{t_name}', subdir=f\"{cust_dir}\")"
   ]
  },
  {
   "cell_type": "markdown",
   "id": "8c3f85e1",
   "metadata": {
    "papermill": {
     "duration": null,
     "end_time": null,
     "exception": null,
     "start_time": null,
     "status": "pending"
    },
    "tags": []
   },
   "source": [
    "https://hdbscan.readthedocs.io/en/latest/parameter_selection.html\n",
    "\n",
    "Since we have seen that min_samples clearly has a dramatic effect on clustering, the question becomes: how do we select this parameter? The simplest intuition for what min_samples does is provide a measure of how conservative you want you clustering to be. The larger the value of min_samples you provide, the more conservative the clustering – more points will be declared as noise, and clusters will be restricted to progressively more dense areas. We can see this in practice by leaving the min_cluster_size at 60, but reducing min_samples to 1."
   ]
  },
  {
   "cell_type": "code",
   "execution_count": null,
   "id": "207f401d",
   "metadata": {
    "papermill": {
     "duration": null,
     "end_time": null,
     "exception": null,
     "start_time": null,
     "status": "pending"
    },
    "tags": []
   },
   "outputs": [],
   "source": [
    "import hdbscan\n",
    "\n",
    "def clusterapply_hdbscan(hdbscan_min_samples, min_cluster_size, runner_name):\n",
    "    cr_start()\n",
    "    labels = hdbscan.HDBSCAN(\n",
    "        min_samples=hdbscan_min_samples,\n",
    "        min_cluster_size=min_cluster_size,\n",
    "    ).fit_predict(clusterable_embedding)\n",
    "    runtime_hdb = cr_getrt()\n",
    "    \n",
    "    stats = {'type': \"hdb\",\n",
    "             'testset': t_name,\n",
    "             'version': td_version,\n",
    "            }\n",
    "    \n",
    "    detail_stats = {'hdb_minclust': min_cluster_size,\n",
    "                    'hdb_minsamp': hdbscan_min_samples,\n",
    "                    'runtime': runtime_hdb,\n",
    "                    'tdf': f\"rt_vect: {runtime_vectorizer}, min_df: {tdidf_min_df}, max_df: {tdidf_max_df}, stopwords: {use_stopwords}, extended stopwords: {use_extended_stopwords}\",\n",
    "                    'umap': f\"{umap_metric}, rt_umap_tf: {runtime_umap_transform}, rt_umap: {runtime_umap}, ncomp: {umap_ncomponents}, rs: {umap_random_state}, min_dist: {umap_min_dist}, no_neigh: {umap_n_neighbors}\",\n",
    "                    #'gtr': grtr,\n",
    "                    #'gtr_rel': grtr_rt\n",
    "                   }\n",
    "    prediction = stats\n",
    "    prediction['name'] = runner_name\n",
    "    #prediction.update(max_fscore(my_results[[tag, 'clabel']].apply(tuple, axis=1).to_dict()))\n",
    "    #prediction.update({'tot_clust': total_clusters, 'tot_anom':no_anomalies, 'no_lab':missing_clabel, 'anom':identified_anom})\n",
    "    prediction.update(detail_stats)\n",
    "    res.append(prediction.copy())\n",
    "    display(pd.DataFrame.from_dict(res))\n",
    "    return labels\n",
    "\n",
    "res = []\n",
    "hdb_labels_results = pd.DataFrame()\n",
    "hdb_labels_results['name'] = testset['name'].copy()\n",
    "\n",
    "\n",
    "for cs in range(cs_min, cs_max, cs_int): #50, 500\n",
    "    for ss in range(ss_min, ss_max, ss_int): #50 500\n",
    "        runner_name = f'ss{ss}cs{cs}'\n",
    "        hdb_labels_results[runner_name] = clusterapply_hdbscan(ss, cs, runner_name)\n",
    "\n",
    "results = pd.DataFrame.from_dict(res)\n",
    "res = []\n"
   ]
  },
  {
   "cell_type": "code",
   "execution_count": null,
   "id": "63d03cc4",
   "metadata": {
    "papermill": {
     "duration": null,
     "end_time": null,
     "exception": null,
     "start_time": null,
     "status": "pending"
    },
    "tags": []
   },
   "outputs": [],
   "source": [
    "hdb_labels_results"
   ]
  },
  {
   "cell_type": "code",
   "execution_count": null,
   "id": "971a24af",
   "metadata": {
    "papermill": {
     "duration": null,
     "end_time": null,
     "exception": null,
     "start_time": null,
     "status": "pending"
    },
    "tags": []
   },
   "outputs": [],
   "source": [
    "print(\"saving results to disk\")\n",
    "try:\n",
    "    old_results = from_disk(f'results/{cust_dir}/hdb_results')\n",
    "    concat_results = pd.concat([old_results, results])\n",
    "    concat_results.drop_duplicates(inplace=True)\n",
    "    to_disk_results(concat_results, f'hdb_results', subdir=f\"{cust_dir}\")\n",
    "except FileNotFoundError:\n",
    "    to_disk_results(results, f'hdb_results', subdir=f\"{cust_dir}\")\n",
    "to_disk_results(hdb_labels_results, f'hdb_labels_results_{t_name}', subdir=f\"{cust_dir}\")"
   ]
  },
  {
   "cell_type": "code",
   "execution_count": null,
   "id": "1df02e76",
   "metadata": {
    "papermill": {
     "duration": null,
     "end_time": null,
     "exception": null,
     "start_time": null,
     "status": "pending"
    },
    "tags": []
   },
   "outputs": [],
   "source": [
    "\n",
    "umap_embedding['topics'] = testset['topics']\n",
    "umap_clusterable_embedding['topics'] = testset['topics']"
   ]
  },
  {
   "cell_type": "code",
   "execution_count": null,
   "id": "659287f9",
   "metadata": {
    "papermill": {
     "duration": null,
     "end_time": null,
     "exception": null,
     "start_time": null,
     "status": "pending"
    },
    "tags": []
   },
   "outputs": [],
   "source": [
    "import sklearn.cluster as cluster\n",
    "\n",
    "def clusterapply_kmeans(testset, clustersize, runner_name, opt_comment=\"\"):\n",
    "    # Perform k-means clustering\n",
    "    \n",
    "    kmeans = cluster.KMeans(n_clusters=clustersize, random_state=42)\n",
    "        \n",
    "    if('y' in testset.columns):\n",
    "        #print(\"assuming umap reduced testset here\")\n",
    "        testset = testset.copy()\n",
    "        dropping_not_connected = len(testset[testset['y'].isnull()])\n",
    "        testset = testset[testset['y'].notna()]\n",
    "        cr_start()\n",
    "        kmeans.fit(testset[['x', 'y']].to_numpy())\n",
    "        runtime_kmeans = cr_getrt()\n",
    "        opt_comment=\"-umapt\"\n",
    "    else:\n",
    "        dropping_not_connected = 0\n",
    "        cr_start()\n",
    "        kmeans.fit(word_doc_matrix)\n",
    "        runtime_kmeans = cr_getrt()\n",
    "\n",
    "    \n",
    "    stats = {'type': f\"kmeans{opt_comment}\",\n",
    "             'testset': t_name,\n",
    "             'version': td_version,\n",
    "             'size': clustersize\n",
    "            }\n",
    "    \n",
    "    detail_stats = {'tdf': f\"rt_vect: {runtime_vectorizer}, min_df: {tdidf_min_df}, max_df: {tdidf_max_df}, stopwords: {use_stopwords}, extended stopwords: {use_extended_stopwords}\",\n",
    "                'runtime': runtime_kmeans\n",
    "               }\n",
    "    \n",
    "    if('y' in testset.columns):\n",
    "        detail_stats['umap'] = f\"{umap_metric}, rt_umap_tf: {runtime_umap_transform}, rt_umap: {runtime_umap}, ncomp: {umap_ncomponents}, rs: {umap_random_state}, min_dist: {umap_min_dist}, no_neigh: {umap_n_neighbors}\", #umap not important here\n",
    "        stats['no_con'] = dropping_not_connected\n",
    "\n",
    "    prediction = stats\n",
    "    prediction['name'] = runner_name\n",
    "    #prediction.update(max_fscore(my_results[[tag, 'clabel']].apply(tuple, axis=1).to_dict()))\n",
    "    #prediction.update({'tot_clust': total_clusters, 'no_lab':missing_clabel})\n",
    "    prediction.update(detail_stats)\n",
    "    res.append(prediction.copy())\n",
    "        \n",
    "    display(pd.DataFrame.from_dict(res))\n",
    "    return kmeans.labels_\n",
    "    #testset.drop(['cluster_run'], axis=1)\n"
   ]
  },
  {
   "cell_type": "code",
   "execution_count": null,
   "id": "b6c8aedf",
   "metadata": {
    "papermill": {
     "duration": null,
     "end_time": null,
     "exception": null,
     "start_time": null,
     "status": "pending"
    },
    "scrolled": true,
    "tags": []
   },
   "outputs": [],
   "source": [
    "res = []\n",
    "\n",
    "kmeans_labels_results = pd.DataFrame()\n",
    "kmeans_labels_results['name'] = umap_embedding[umap_embedding['y'].notna()]['name'].copy()\n",
    "\n",
    "for i in range(min_cluster, max_cluster, clust_int): # 10, 60\n",
    "    runner_name = f'{i}'\n",
    "    kmeans_labels_results[runner_name] = clusterapply_kmeans(umap_embedding, i, runner_name)\n",
    "\n",
    "results = pd.DataFrame.from_dict(res)\n",
    "res = []\n",
    "\n",
    "#k_means_df[['x', 'y']].to_numpy(), \n",
    "#word_doc_matrix\n",
    "\n"
   ]
  },
  {
   "cell_type": "code",
   "execution_count": null,
   "id": "1e7fdac0",
   "metadata": {
    "papermill": {
     "duration": null,
     "end_time": null,
     "exception": null,
     "start_time": null,
     "status": "pending"
    },
    "tags": []
   },
   "outputs": [],
   "source": [
    "kmeans_labels_results"
   ]
  },
  {
   "cell_type": "code",
   "execution_count": null,
   "id": "97ebd743",
   "metadata": {
    "papermill": {
     "duration": null,
     "end_time": null,
     "exception": null,
     "start_time": null,
     "status": "pending"
    },
    "tags": []
   },
   "outputs": [],
   "source": [
    "print(\"saving results to disk\")\n",
    "try:\n",
    "    old_results = from_disk(f'results/{cust_dir}/kmeans-umap_results')\n",
    "    concat_results = pd.concat([old_results, results])\n",
    "    concat_results.drop_duplicates(inplace=True)\n",
    "    to_disk_results(concat_results, f'kmeans-umap_results', subdir=f\"{cust_dir}\")\n",
    "except FileNotFoundError:\n",
    "    to_disk_results(results, f'kmeans-umap_results', subdir=f\"{cust_dir}\")\n",
    "    \n",
    "to_disk_results(kmeans_labels_results, f'kmeans-umap_labels_results_{t_name}', subdir=f\"{cust_dir}\")\n"
   ]
  },
  {
   "cell_type": "code",
   "execution_count": null,
   "id": "ed45e80c",
   "metadata": {
    "papermill": {
     "duration": null,
     "end_time": null,
     "exception": null,
     "start_time": null,
     "status": "pending"
    },
    "scrolled": true,
    "tags": []
   },
   "outputs": [],
   "source": [
    "res = []\n",
    "\n",
    "kmeans_labels_results = pd.DataFrame()\n",
    "kmeans_labels_results['name'] = testset['name'].copy()\n",
    "\n",
    "\n",
    "for i in range(min_cluster, max_cluster, clust_int): # 10, 60\n",
    "    runner_name = f'{i}'\n",
    "    kmeans_labels_results[runner_name] = clusterapply_kmeans(testset, i, runner_name)\n",
    "\n",
    "results = pd.DataFrame.from_dict(res)\n",
    "res = []\n",
    "\n",
    "#k_means_df[['x', 'y']].to_numpy(), \n",
    "#word_doc_matrix"
   ]
  },
  {
   "cell_type": "code",
   "execution_count": null,
   "id": "71e632ca",
   "metadata": {
    "papermill": {
     "duration": null,
     "end_time": null,
     "exception": null,
     "start_time": null,
     "status": "pending"
    },
    "tags": []
   },
   "outputs": [],
   "source": [
    "kmeans_labels_results"
   ]
  },
  {
   "cell_type": "code",
   "execution_count": null,
   "id": "162606e6",
   "metadata": {
    "papermill": {
     "duration": null,
     "end_time": null,
     "exception": null,
     "start_time": null,
     "status": "pending"
    },
    "tags": []
   },
   "outputs": [],
   "source": [
    "print(\"saving results to disk\")\n",
    "\n",
    "try:\n",
    "    old_results = from_disk(f'results/{cust_dir}/kmeans_results')\n",
    "    concat_results = pd.concat([old_results, results])\n",
    "    concat_results.drop_duplicates(inplace=True)\n",
    "    to_disk_results(concat_results, f'kmeans_results', subdir=f\"{cust_dir}\")\n",
    "except FileNotFoundError:\n",
    "    to_disk_results(results, f'kmeans_results', subdir=f\"{cust_dir}\")\n",
    "    \n",
    "to_disk_results(kmeans_labels_results, f'kmeans_labels_results_{t_name}', subdir=f\"{cust_dir}\")\n"
   ]
  },
  {
   "cell_type": "code",
   "execution_count": null,
   "id": "c791c092",
   "metadata": {
    "papermill": {
     "duration": null,
     "end_time": null,
     "exception": null,
     "start_time": null,
     "status": "pending"
    },
    "tags": []
   },
   "outputs": [],
   "source": []
  }
 ],
 "metadata": {
  "celltoolbar": "Tags",
  "kernelspec": {
   "display_name": "Python 3 (ipykernel)",
   "language": "python",
   "name": "python3"
  },
  "language_info": {
   "codemirror_mode": {
    "name": "ipython",
    "version": 3
   },
   "file_extension": ".py",
   "mimetype": "text/x-python",
   "name": "python",
   "nbconvert_exporter": "python",
   "pygments_lexer": "ipython3",
   "version": "3.9.2"
  },
  "papermill": {
   "default_parameters": {},
   "duration": 3.434368,
   "end_time": "2023-10-11T19:30:41.349854",
   "environment_variables": {},
   "exception": true,
   "input_path": "3_UMAP_CLUSTER_RUNNER.ipynb",
   "output_path": "ar3/output-notebook-t2.4.1s-t2.4.2+t2.4.x.ipynb",
   "parameters": {
    "clust_int": 3,
    "cs_int": 50,
    "cs_max": 500,
    "cs_min": 50,
    "cust_dir": "ar3/",
    "max_cluster": 50,
    "merge_list": [
     "t2.4.2",
     "t2.4.x"
    ],
    "min_cluster": 10,
    "ss_int": 50,
    "ss_max": 500,
    "ss_min": 50,
    "t_name": "t2.4.1s",
    "tdidf_max_df": 1.0,
    "tdidf_min_df": 4,
    "umap_metric": "hellinger",
    "umap_min_dist": 0,
    "umap_n_neighbors": 30,
    "umap_ncomponents": 2,
    "umap_random_state": 42,
    "use_extended_stopwords": false,
    "use_stopwords": true,
    "use_tfidfvectorizer": true
   },
   "start_time": "2023-10-11T19:30:37.915486",
   "version": "2.4.0"
  }
 },
 "nbformat": 4,
 "nbformat_minor": 5
}