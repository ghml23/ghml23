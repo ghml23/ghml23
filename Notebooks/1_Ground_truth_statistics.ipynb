{
 "cells": [
  {
   "cell_type": "code",
   "execution_count": 2,
   "id": "1a9fcceb",
   "metadata": {},
   "outputs": [],
   "source": [
    "# this replaces \"Paper-Cluster-mylabels and stats\"\n",
    "import pandas as pd\n",
    "import numpy as np\n",
    "import matplotlib.pyplot as plt\n",
    "import seaborn as sns\n",
    "import os, json\n",
    "import glob\n",
    "import operator\n",
    "\n",
    "from IPython.display import display, HTML"
   ]
  },
  {
   "cell_type": "code",
   "execution_count": 3,
   "id": "bde8d8a8",
   "metadata": {},
   "outputs": [],
   "source": [
    "%load_ext autoreload\n",
    "%autoreload 1\n",
    "\n",
    "from shared_globals_functions import *\n",
    "\n",
    "%aimport shared_globals_functions"
   ]
  },
  {
   "cell_type": "code",
   "execution_count": 4,
   "id": "e5fa0531",
   "metadata": {},
   "outputs": [],
   "source": [
    "# with: pd.set_option('display.max_columns', None)"
   ]
  },
  {
   "cell_type": "code",
   "execution_count": 5,
   "id": "49b50714",
   "metadata": {},
   "outputs": [
    {
     "name": "stdout",
     "output_type": "stream",
     "text": [
      "reading from disk /home/manuel/d3tect-tools/jupyter/github-threat-detection-repos-f.csv\n"
     ]
    }
   ],
   "source": [
    "# get all ground truth repositories\n",
    "identified_repos = get_identified_repos(grtr_fn, grtr_rt)"
   ]
  },
  {
   "cell_type": "code",
   "execution_count": 6,
   "id": "a86c35fd",
   "metadata": {},
   "outputs": [
    {
     "data": {
      "text/html": [
       "<div>\n",
       "<style scoped>\n",
       "    .dataframe tbody tr th:only-of-type {\n",
       "        vertical-align: middle;\n",
       "    }\n",
       "\n",
       "    .dataframe tbody tr th {\n",
       "        vertical-align: top;\n",
       "    }\n",
       "\n",
       "    .dataframe thead th {\n",
       "        text-align: right;\n",
       "    }\n",
       "</style>\n",
       "<table border=\"1\" class=\"dataframe\">\n",
       "  <thead>\n",
       "    <tr style=\"text-align: right;\">\n",
       "      <th></th>\n",
       "      <th>name</th>\n",
       "      <th>tag</th>\n",
       "    </tr>\n",
       "  </thead>\n",
       "  <tbody>\n",
       "    <tr>\n",
       "      <th>0</th>\n",
       "      <td>0x4D31/awesome-threat-detection</td>\n",
       "      <td>secumon</td>\n",
       "    </tr>\n",
       "    <tr>\n",
       "      <th>1</th>\n",
       "      <td>0xN3utr0n/Kanis</td>\n",
       "      <td>secumon</td>\n",
       "    </tr>\n",
       "    <tr>\n",
       "      <th>2</th>\n",
       "      <td>airbnb/binaryalert</td>\n",
       "      <td>secumon</td>\n",
       "    </tr>\n",
       "    <tr>\n",
       "      <th>3</th>\n",
       "      <td>airbnb/streamalert</td>\n",
       "      <td>secumon</td>\n",
       "    </tr>\n",
       "    <tr>\n",
       "      <th>4</th>\n",
       "      <td>ait-aecid/logdata-anomaly-miner</td>\n",
       "      <td>secumon</td>\n",
       "    </tr>\n",
       "    <tr>\n",
       "      <th>...</th>\n",
       "      <td>...</td>\n",
       "      <td>...</td>\n",
       "    </tr>\n",
       "    <tr>\n",
       "      <th>115</th>\n",
       "      <td>arch3rPro/PentestTools</td>\n",
       "      <td>pentest</td>\n",
       "    </tr>\n",
       "    <tr>\n",
       "      <th>116</th>\n",
       "      <td>whiterabb17/sifter</td>\n",
       "      <td>pentest</td>\n",
       "    </tr>\n",
       "    <tr>\n",
       "      <th>117</th>\n",
       "      <td>hackThacker/advtools</td>\n",
       "      <td>pentest</td>\n",
       "    </tr>\n",
       "    <tr>\n",
       "      <th>118</th>\n",
       "      <td>rcallaby/Hacking-Study-Guide</td>\n",
       "      <td>pentest</td>\n",
       "    </tr>\n",
       "    <tr>\n",
       "      <th>119</th>\n",
       "      <td>gotr00t0day/Gsec</td>\n",
       "      <td>pentest</td>\n",
       "    </tr>\n",
       "  </tbody>\n",
       "</table>\n",
       "<p>120 rows × 2 columns</p>\n",
       "</div>"
      ],
      "text/plain": [
       "                                name      tag\n",
       "0    0x4D31/awesome-threat-detection  secumon\n",
       "1                    0xN3utr0n/Kanis  secumon\n",
       "2                 airbnb/binaryalert  secumon\n",
       "3                 airbnb/streamalert  secumon\n",
       "4    ait-aecid/logdata-anomaly-miner  secumon\n",
       "..                               ...      ...\n",
       "115           arch3rPro/PentestTools  pentest\n",
       "116               whiterabb17/sifter  pentest\n",
       "117             hackThacker/advtools  pentest\n",
       "118     rcallaby/Hacking-Study-Guide  pentest\n",
       "119                 gotr00t0day/Gsec  pentest\n",
       "\n",
       "[120 rows x 2 columns]"
      ]
     },
     "execution_count": 6,
     "metadata": {},
     "output_type": "execute_result"
    }
   ],
   "source": [
    "identified_repos"
   ]
  },
  {
   "cell_type": "code",
   "execution_count": 7,
   "id": "7f342677",
   "metadata": {},
   "outputs": [
    {
     "data": {
      "text/html": [
       "<div>\n",
       "<style scoped>\n",
       "    .dataframe tbody tr th:only-of-type {\n",
       "        vertical-align: middle;\n",
       "    }\n",
       "\n",
       "    .dataframe tbody tr th {\n",
       "        vertical-align: top;\n",
       "    }\n",
       "\n",
       "    .dataframe thead th {\n",
       "        text-align: right;\n",
       "    }\n",
       "</style>\n",
       "<table border=\"1\" class=\"dataframe\">\n",
       "  <thead>\n",
       "    <tr style=\"text-align: right;\">\n",
       "      <th></th>\n",
       "      <th>name</th>\n",
       "    </tr>\n",
       "    <tr>\n",
       "      <th>tag</th>\n",
       "      <th></th>\n",
       "    </tr>\n",
       "  </thead>\n",
       "  <tbody>\n",
       "    <tr>\n",
       "      <th>imageocr</th>\n",
       "      <td>10</td>\n",
       "    </tr>\n",
       "    <tr>\n",
       "      <th>pentest</th>\n",
       "      <td>10</td>\n",
       "    </tr>\n",
       "    <tr>\n",
       "      <th>secumon</th>\n",
       "      <td>100</td>\n",
       "    </tr>\n",
       "  </tbody>\n",
       "</table>\n",
       "</div>"
      ],
      "text/plain": [
       "          name\n",
       "tag           \n",
       "imageocr    10\n",
       "pentest     10\n",
       "secumon    100"
      ]
     },
     "execution_count": 7,
     "metadata": {},
     "output_type": "execute_result"
    }
   ],
   "source": [
    "identified_repos[['name', 'tag']].groupby('tag').count()"
   ]
  },
  {
   "cell_type": "code",
   "execution_count": 8,
   "id": "46b3eb78",
   "metadata": {},
   "outputs": [
    {
     "data": {
      "text/html": [
       "<div>\n",
       "<style scoped>\n",
       "    .dataframe tbody tr th:only-of-type {\n",
       "        vertical-align: middle;\n",
       "    }\n",
       "\n",
       "    .dataframe tbody tr th {\n",
       "        vertical-align: top;\n",
       "    }\n",
       "\n",
       "    .dataframe thead th {\n",
       "        text-align: right;\n",
       "    }\n",
       "</style>\n",
       "<table border=\"1\" class=\"dataframe\">\n",
       "  <thead>\n",
       "    <tr style=\"text-align: right;\">\n",
       "      <th></th>\n",
       "      <th>name</th>\n",
       "      <th>tag</th>\n",
       "    </tr>\n",
       "  </thead>\n",
       "  <tbody>\n",
       "    <tr>\n",
       "      <th>0</th>\n",
       "      <td>0x4D31/awesome-threat-detection</td>\n",
       "      <td>secumon</td>\n",
       "    </tr>\n",
       "    <tr>\n",
       "      <th>1</th>\n",
       "      <td>0xN3utr0n/Kanis</td>\n",
       "      <td>secumon</td>\n",
       "    </tr>\n",
       "    <tr>\n",
       "      <th>2</th>\n",
       "      <td>airbnb/binaryalert</td>\n",
       "      <td>secumon</td>\n",
       "    </tr>\n",
       "    <tr>\n",
       "      <th>3</th>\n",
       "      <td>airbnb/streamalert</td>\n",
       "      <td>secumon</td>\n",
       "    </tr>\n",
       "    <tr>\n",
       "      <th>4</th>\n",
       "      <td>ait-aecid/logdata-anomaly-miner</td>\n",
       "      <td>secumon</td>\n",
       "    </tr>\n",
       "    <tr>\n",
       "      <th>...</th>\n",
       "      <td>...</td>\n",
       "      <td>...</td>\n",
       "    </tr>\n",
       "    <tr>\n",
       "      <th>115</th>\n",
       "      <td>arch3rPro/PentestTools</td>\n",
       "      <td>pentest</td>\n",
       "    </tr>\n",
       "    <tr>\n",
       "      <th>116</th>\n",
       "      <td>whiterabb17/sifter</td>\n",
       "      <td>pentest</td>\n",
       "    </tr>\n",
       "    <tr>\n",
       "      <th>117</th>\n",
       "      <td>hackThacker/advtools</td>\n",
       "      <td>pentest</td>\n",
       "    </tr>\n",
       "    <tr>\n",
       "      <th>118</th>\n",
       "      <td>rcallaby/Hacking-Study-Guide</td>\n",
       "      <td>pentest</td>\n",
       "    </tr>\n",
       "    <tr>\n",
       "      <th>119</th>\n",
       "      <td>gotr00t0day/Gsec</td>\n",
       "      <td>pentest</td>\n",
       "    </tr>\n",
       "  </tbody>\n",
       "</table>\n",
       "<p>120 rows × 2 columns</p>\n",
       "</div>"
      ],
      "text/plain": [
       "                                name      tag\n",
       "0    0x4D31/awesome-threat-detection  secumon\n",
       "1                    0xN3utr0n/Kanis  secumon\n",
       "2                 airbnb/binaryalert  secumon\n",
       "3                 airbnb/streamalert  secumon\n",
       "4    ait-aecid/logdata-anomaly-miner  secumon\n",
       "..                               ...      ...\n",
       "115           arch3rPro/PentestTools  pentest\n",
       "116               whiterabb17/sifter  pentest\n",
       "117             hackThacker/advtools  pentest\n",
       "118     rcallaby/Hacking-Study-Guide  pentest\n",
       "119                 gotr00t0day/Gsec  pentest\n",
       "\n",
       "[120 rows x 2 columns]"
      ]
     },
     "execution_count": 8,
     "metadata": {},
     "output_type": "execute_result"
    }
   ],
   "source": [
    "identified_repos[['name', 'tag']]"
   ]
  },
  {
   "cell_type": "code",
   "execution_count": 9,
   "id": "a6f9f2a2",
   "metadata": {},
   "outputs": [
    {
     "name": "stdout",
     "output_type": "stream",
     "text": [
      "/home/manuel/d3tect-tools/Notebooks/raw_testdata_v1/identified_repos_v1.pkl\n"
     ]
    }
   ],
   "source": [
    "to_disk(identified_repos, grtr)"
   ]
  },
  {
   "cell_type": "code",
   "execution_count": 10,
   "id": "4a3cfa0c",
   "metadata": {},
   "outputs": [
    {
     "name": "stdout",
     "output_type": "stream",
     "text": [
      "reading /home/manuel/d3tect-tools/Notebooks/raw_testdata_v1/init_short.pkl\n"
     ]
    }
   ],
   "source": [
    "testset = from_disk('init_short')"
   ]
  },
  {
   "cell_type": "code",
   "execution_count": 11,
   "id": "4add2e4d",
   "metadata": {},
   "outputs": [],
   "source": [
    "testset = identified_repos.merge(testset, on=['name'], how='left', indicator=True)"
   ]
  },
  {
   "cell_type": "code",
   "execution_count": 12,
   "id": "d07a54a1",
   "metadata": {},
   "outputs": [
    {
     "data": {
      "text/plain": [
       "Index(['name', 'tag', 'isfork', 'stars', 'archived', 'commits', 'watcher',\n",
       "       'license', 'releases', 'forks', 'pushed', 'created', 'wiki',\n",
       "       'downloads', 'open_issues', 'open_issues_s30d', 'open_issues_b30d',\n",
       "       'language', 'size', 'url', 'contributors', 'content_url',\n",
       "       'crawl_created', 'crawl_last_updated', 'crawl_last_spare_req',\n",
       "       'search_queries', '_merge'],\n",
       "      dtype='object')"
      ]
     },
     "execution_count": 12,
     "metadata": {},
     "output_type": "execute_result"
    }
   ],
   "source": [
    "testset.columns"
   ]
  },
  {
   "cell_type": "code",
   "execution_count": 13,
   "id": "008fce61",
   "metadata": {},
   "outputs": [],
   "source": [
    "testset[['name', 'tag', 'stars', 'created', 'forks', 'releases', 'commits', 'contributors', 'pushed', 'crawl_last_updated']].to_csv('identified_repos.csv')"
   ]
  },
  {
   "cell_type": "code",
   "execution_count": 14,
   "id": "8e49eeba",
   "metadata": {},
   "outputs": [
    {
     "name": "stdout",
     "output_type": "stream",
     "text": [
      "reading /home/manuel/d3tect-tools/Notebooks/raw_testdata_v1/init_short.pkl\n"
     ]
    }
   ],
   "source": [
    "testset = from_disk('init_short')"
   ]
  },
  {
   "cell_type": "code",
   "execution_count": 15,
   "id": "2eab7c2c",
   "metadata": {},
   "outputs": [],
   "source": [
    "testset[['name', 'stars', 'created', 'forks', 'releases', 'commits', 'contributors', 'pushed', 'crawl_last_updated']].to_csv('full_repos.csv')"
   ]
  },
  {
   "cell_type": "code",
   "execution_count": null,
   "id": "7813ac4c",
   "metadata": {},
   "outputs": [],
   "source": []
  }
 ],
 "metadata": {
  "kernelspec": {
   "display_name": "Python 3 (ipykernel)",
   "language": "python",
   "name": "python3"
  },
  "language_info": {
   "codemirror_mode": {
    "name": "ipython",
    "version": 3
   },
   "file_extension": ".py",
   "mimetype": "text/x-python",
   "name": "python",
   "nbconvert_exporter": "python",
   "pygments_lexer": "ipython3",
   "version": "3.9.2"
  }
 },
 "nbformat": 4,
 "nbformat_minor": 5
}
